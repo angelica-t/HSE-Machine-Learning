{
 "cells": [
  {
   "cell_type": "code",
   "execution_count": 34,
   "metadata": {},
   "outputs": [
    {
     "data": {
      "application/vnd.plotly.v1+json": {
       "config": {
        "linkText": "Export to plot.ly",
        "plotlyServerURL": "https://plot.ly",
        "showLink": false
       },
       "data": [
        {
         "marker": {
          "color": "rgba(90, 171, 96, 0.6)"
         },
         "orientation": "h",
         "showlegend": false,
         "type": "bar",
         "x": [
          549,
          1099,
          1399.95,
          2139.97,
          2199,
          2589,
          2858,
          4389,
          6099
         ],
         "xaxis": "x",
         "y": [
          "Android",
          "Linux",
          "No OS",
          "Mac OS X",
          "Chrome OS",
          "Windows 10 S",
          "macOS",
          "Windows 7",
          "Windows 10"
         ],
         "yaxis": "y"
        },
        {
         "marker": {
          "color": "rgba(50, 171, 96, 0.6)"
         },
         "orientation": "h",
         "showlegend": false,
         "type": "bar",
         "x": [
          434,
          617.0688709677419,
          587.9733333333334,
          1298.9924999999998,
          553.5851851851852,
          1286.48,
          1815.7090909090912,
          1686.6513333333337,
          1169.8613364485986
         ],
         "xaxis": "x2",
         "y": [
          "Android",
          "Linux",
          "No OS",
          "Mac OS X",
          "Chrome OS",
          "Windows 10 S",
          "macOS",
          "Windows 7",
          "Windows 10"
         ],
         "yaxis": "y2"
        },
        {
         "marker": {
          "color": "rgba(50, 100, 96, 0.6)"
         },
         "orientation": "h",
         "showlegend": false,
         "type": "bar",
         "x": [
          1908,
          2824,
          3100,
          4389,
          4899,
          6099
         ],
         "xaxis": "x3",
         "y": [
          "Netbook",
          "2 in 1 Convertible",
          "Ultrabook",
          "Workstation",
          "Notebook",
          "Gaming"
         ],
         "yaxis": "y3"
        },
        {
         "marker": {
          "color": "rgba(90, 10, 96, 0.8)"
         },
         "orientation": "h",
         "showlegend": false,
         "type": "bar",
         "x": [
          636.232,
          1282.4016528925622,
          1556.7039473684208,
          2280.3589655172414,
          783.5548551724137,
          1731.380634146341
         ],
         "xaxis": "x4",
         "y": [
          "Netbook",
          "2 in 1 Convertible",
          "Ultrabook",
          "Workstation",
          "Notebook",
          "Gaming"
         ],
         "yaxis": "y4"
        }
       ],
       "layout": {
        "annotations": [
         {
          "font": {
           "size": 16
          },
          "showarrow": false,
          "text": "Maximum price by OS",
          "x": 0.225,
          "xanchor": "center",
          "xref": "paper",
          "y": 1,
          "yanchor": "bottom",
          "yref": "paper"
         },
         {
          "font": {
           "size": 16
          },
          "showarrow": false,
          "text": "Mean price by OS",
          "x": 0.775,
          "xanchor": "center",
          "xref": "paper",
          "y": 1,
          "yanchor": "bottom",
          "yref": "paper"
         },
         {
          "font": {
           "size": 16
          },
          "showarrow": false,
          "text": "Maximum price by type name",
          "x": 0.225,
          "xanchor": "center",
          "xref": "paper",
          "y": 0.48,
          "yanchor": "bottom",
          "yref": "paper"
         },
         {
          "font": {
           "size": 16
          },
          "showarrow": false,
          "text": "Mean price by type name",
          "x": 0.775,
          "xanchor": "center",
          "xref": "paper",
          "y": 0.48,
          "yanchor": "bottom",
          "yref": "paper"
         }
        ],
        "height": 1000,
        "paper_bgcolor": "rgb(233,233,233)",
        "template": {
         "data": {
          "bar": [
           {
            "error_x": {
             "color": "#2a3f5f"
            },
            "error_y": {
             "color": "#2a3f5f"
            },
            "marker": {
             "line": {
              "color": "#E5ECF6",
              "width": 0.5
             }
            },
            "type": "bar"
           }
          ],
          "barpolar": [
           {
            "marker": {
             "line": {
              "color": "#E5ECF6",
              "width": 0.5
             }
            },
            "type": "barpolar"
           }
          ],
          "carpet": [
           {
            "aaxis": {
             "endlinecolor": "#2a3f5f",
             "gridcolor": "white",
             "linecolor": "white",
             "minorgridcolor": "white",
             "startlinecolor": "#2a3f5f"
            },
            "baxis": {
             "endlinecolor": "#2a3f5f",
             "gridcolor": "white",
             "linecolor": "white",
             "minorgridcolor": "white",
             "startlinecolor": "#2a3f5f"
            },
            "type": "carpet"
           }
          ],
          "choropleth": [
           {
            "colorbar": {
             "outlinewidth": 0,
             "ticks": ""
            },
            "type": "choropleth"
           }
          ],
          "contour": [
           {
            "colorbar": {
             "outlinewidth": 0,
             "ticks": ""
            },
            "colorscale": [
             [
              0,
              "#0d0887"
             ],
             [
              0.1111111111111111,
              "#46039f"
             ],
             [
              0.2222222222222222,
              "#7201a8"
             ],
             [
              0.3333333333333333,
              "#9c179e"
             ],
             [
              0.4444444444444444,
              "#bd3786"
             ],
             [
              0.5555555555555556,
              "#d8576b"
             ],
             [
              0.6666666666666666,
              "#ed7953"
             ],
             [
              0.7777777777777778,
              "#fb9f3a"
             ],
             [
              0.8888888888888888,
              "#fdca26"
             ],
             [
              1,
              "#f0f921"
             ]
            ],
            "type": "contour"
           }
          ],
          "contourcarpet": [
           {
            "colorbar": {
             "outlinewidth": 0,
             "ticks": ""
            },
            "type": "contourcarpet"
           }
          ],
          "heatmap": [
           {
            "colorbar": {
             "outlinewidth": 0,
             "ticks": ""
            },
            "colorscale": [
             [
              0,
              "#0d0887"
             ],
             [
              0.1111111111111111,
              "#46039f"
             ],
             [
              0.2222222222222222,
              "#7201a8"
             ],
             [
              0.3333333333333333,
              "#9c179e"
             ],
             [
              0.4444444444444444,
              "#bd3786"
             ],
             [
              0.5555555555555556,
              "#d8576b"
             ],
             [
              0.6666666666666666,
              "#ed7953"
             ],
             [
              0.7777777777777778,
              "#fb9f3a"
             ],
             [
              0.8888888888888888,
              "#fdca26"
             ],
             [
              1,
              "#f0f921"
             ]
            ],
            "type": "heatmap"
           }
          ],
          "heatmapgl": [
           {
            "colorbar": {
             "outlinewidth": 0,
             "ticks": ""
            },
            "colorscale": [
             [
              0,
              "#0d0887"
             ],
             [
              0.1111111111111111,
              "#46039f"
             ],
             [
              0.2222222222222222,
              "#7201a8"
             ],
             [
              0.3333333333333333,
              "#9c179e"
             ],
             [
              0.4444444444444444,
              "#bd3786"
             ],
             [
              0.5555555555555556,
              "#d8576b"
             ],
             [
              0.6666666666666666,
              "#ed7953"
             ],
             [
              0.7777777777777778,
              "#fb9f3a"
             ],
             [
              0.8888888888888888,
              "#fdca26"
             ],
             [
              1,
              "#f0f921"
             ]
            ],
            "type": "heatmapgl"
           }
          ],
          "histogram": [
           {
            "marker": {
             "colorbar": {
              "outlinewidth": 0,
              "ticks": ""
             }
            },
            "type": "histogram"
           }
          ],
          "histogram2d": [
           {
            "colorbar": {
             "outlinewidth": 0,
             "ticks": ""
            },
            "colorscale": [
             [
              0,
              "#0d0887"
             ],
             [
              0.1111111111111111,
              "#46039f"
             ],
             [
              0.2222222222222222,
              "#7201a8"
             ],
             [
              0.3333333333333333,
              "#9c179e"
             ],
             [
              0.4444444444444444,
              "#bd3786"
             ],
             [
              0.5555555555555556,
              "#d8576b"
             ],
             [
              0.6666666666666666,
              "#ed7953"
             ],
             [
              0.7777777777777778,
              "#fb9f3a"
             ],
             [
              0.8888888888888888,
              "#fdca26"
             ],
             [
              1,
              "#f0f921"
             ]
            ],
            "type": "histogram2d"
           }
          ],
          "histogram2dcontour": [
           {
            "colorbar": {
             "outlinewidth": 0,
             "ticks": ""
            },
            "colorscale": [
             [
              0,
              "#0d0887"
             ],
             [
              0.1111111111111111,
              "#46039f"
             ],
             [
              0.2222222222222222,
              "#7201a8"
             ],
             [
              0.3333333333333333,
              "#9c179e"
             ],
             [
              0.4444444444444444,
              "#bd3786"
             ],
             [
              0.5555555555555556,
              "#d8576b"
             ],
             [
              0.6666666666666666,
              "#ed7953"
             ],
             [
              0.7777777777777778,
              "#fb9f3a"
             ],
             [
              0.8888888888888888,
              "#fdca26"
             ],
             [
              1,
              "#f0f921"
             ]
            ],
            "type": "histogram2dcontour"
           }
          ],
          "mesh3d": [
           {
            "colorbar": {
             "outlinewidth": 0,
             "ticks": ""
            },
            "type": "mesh3d"
           }
          ],
          "parcoords": [
           {
            "line": {
             "colorbar": {
              "outlinewidth": 0,
              "ticks": ""
             }
            },
            "type": "parcoords"
           }
          ],
          "pie": [
           {
            "automargin": true,
            "type": "pie"
           }
          ],
          "scatter": [
           {
            "marker": {
             "colorbar": {
              "outlinewidth": 0,
              "ticks": ""
             }
            },
            "type": "scatter"
           }
          ],
          "scatter3d": [
           {
            "line": {
             "colorbar": {
              "outlinewidth": 0,
              "ticks": ""
             }
            },
            "marker": {
             "colorbar": {
              "outlinewidth": 0,
              "ticks": ""
             }
            },
            "type": "scatter3d"
           }
          ],
          "scattercarpet": [
           {
            "marker": {
             "colorbar": {
              "outlinewidth": 0,
              "ticks": ""
             }
            },
            "type": "scattercarpet"
           }
          ],
          "scattergeo": [
           {
            "marker": {
             "colorbar": {
              "outlinewidth": 0,
              "ticks": ""
             }
            },
            "type": "scattergeo"
           }
          ],
          "scattergl": [
           {
            "marker": {
             "colorbar": {
              "outlinewidth": 0,
              "ticks": ""
             }
            },
            "type": "scattergl"
           }
          ],
          "scattermapbox": [
           {
            "marker": {
             "colorbar": {
              "outlinewidth": 0,
              "ticks": ""
             }
            },
            "type": "scattermapbox"
           }
          ],
          "scatterpolar": [
           {
            "marker": {
             "colorbar": {
              "outlinewidth": 0,
              "ticks": ""
             }
            },
            "type": "scatterpolar"
           }
          ],
          "scatterpolargl": [
           {
            "marker": {
             "colorbar": {
              "outlinewidth": 0,
              "ticks": ""
             }
            },
            "type": "scatterpolargl"
           }
          ],
          "scatterternary": [
           {
            "marker": {
             "colorbar": {
              "outlinewidth": 0,
              "ticks": ""
             }
            },
            "type": "scatterternary"
           }
          ],
          "surface": [
           {
            "colorbar": {
             "outlinewidth": 0,
             "ticks": ""
            },
            "colorscale": [
             [
              0,
              "#0d0887"
             ],
             [
              0.1111111111111111,
              "#46039f"
             ],
             [
              0.2222222222222222,
              "#7201a8"
             ],
             [
              0.3333333333333333,
              "#9c179e"
             ],
             [
              0.4444444444444444,
              "#bd3786"
             ],
             [
              0.5555555555555556,
              "#d8576b"
             ],
             [
              0.6666666666666666,
              "#ed7953"
             ],
             [
              0.7777777777777778,
              "#fb9f3a"
             ],
             [
              0.8888888888888888,
              "#fdca26"
             ],
             [
              1,
              "#f0f921"
             ]
            ],
            "type": "surface"
           }
          ],
          "table": [
           {
            "cells": {
             "fill": {
              "color": "#EBF0F8"
             },
             "line": {
              "color": "white"
             }
            },
            "header": {
             "fill": {
              "color": "#C8D4E3"
             },
             "line": {
              "color": "white"
             }
            },
            "type": "table"
           }
          ]
         },
         "layout": {
          "annotationdefaults": {
           "arrowcolor": "#2a3f5f",
           "arrowhead": 0,
           "arrowwidth": 1
          },
          "coloraxis": {
           "colorbar": {
            "outlinewidth": 0,
            "ticks": ""
           }
          },
          "colorscale": {
           "diverging": [
            [
             0,
             "#8e0152"
            ],
            [
             0.1,
             "#c51b7d"
            ],
            [
             0.2,
             "#de77ae"
            ],
            [
             0.3,
             "#f1b6da"
            ],
            [
             0.4,
             "#fde0ef"
            ],
            [
             0.5,
             "#f7f7f7"
            ],
            [
             0.6,
             "#e6f5d0"
            ],
            [
             0.7,
             "#b8e186"
            ],
            [
             0.8,
             "#7fbc41"
            ],
            [
             0.9,
             "#4d9221"
            ],
            [
             1,
             "#276419"
            ]
           ],
           "sequential": [
            [
             0,
             "#0d0887"
            ],
            [
             0.1111111111111111,
             "#46039f"
            ],
            [
             0.2222222222222222,
             "#7201a8"
            ],
            [
             0.3333333333333333,
             "#9c179e"
            ],
            [
             0.4444444444444444,
             "#bd3786"
            ],
            [
             0.5555555555555556,
             "#d8576b"
            ],
            [
             0.6666666666666666,
             "#ed7953"
            ],
            [
             0.7777777777777778,
             "#fb9f3a"
            ],
            [
             0.8888888888888888,
             "#fdca26"
            ],
            [
             1,
             "#f0f921"
            ]
           ],
           "sequentialminus": [
            [
             0,
             "#0d0887"
            ],
            [
             0.1111111111111111,
             "#46039f"
            ],
            [
             0.2222222222222222,
             "#7201a8"
            ],
            [
             0.3333333333333333,
             "#9c179e"
            ],
            [
             0.4444444444444444,
             "#bd3786"
            ],
            [
             0.5555555555555556,
             "#d8576b"
            ],
            [
             0.6666666666666666,
             "#ed7953"
            ],
            [
             0.7777777777777778,
             "#fb9f3a"
            ],
            [
             0.8888888888888888,
             "#fdca26"
            ],
            [
             1,
             "#f0f921"
            ]
           ]
          },
          "colorway": [
           "#636efa",
           "#EF553B",
           "#00cc96",
           "#ab63fa",
           "#FFA15A",
           "#19d3f3",
           "#FF6692",
           "#B6E880",
           "#FF97FF",
           "#FECB52"
          ],
          "font": {
           "color": "#2a3f5f"
          },
          "geo": {
           "bgcolor": "white",
           "lakecolor": "white",
           "landcolor": "#E5ECF6",
           "showlakes": true,
           "showland": true,
           "subunitcolor": "white"
          },
          "hoverlabel": {
           "align": "left"
          },
          "hovermode": "closest",
          "mapbox": {
           "style": "light"
          },
          "paper_bgcolor": "white",
          "plot_bgcolor": "#E5ECF6",
          "polar": {
           "angularaxis": {
            "gridcolor": "white",
            "linecolor": "white",
            "ticks": ""
           },
           "bgcolor": "#E5ECF6",
           "radialaxis": {
            "gridcolor": "white",
            "linecolor": "white",
            "ticks": ""
           }
          },
          "scene": {
           "xaxis": {
            "backgroundcolor": "#E5ECF6",
            "gridcolor": "white",
            "gridwidth": 2,
            "linecolor": "white",
            "showbackground": true,
            "ticks": "",
            "zerolinecolor": "white"
           },
           "yaxis": {
            "backgroundcolor": "#E5ECF6",
            "gridcolor": "white",
            "gridwidth": 2,
            "linecolor": "white",
            "showbackground": true,
            "ticks": "",
            "zerolinecolor": "white"
           },
           "zaxis": {
            "backgroundcolor": "#E5ECF6",
            "gridcolor": "white",
            "gridwidth": 2,
            "linecolor": "white",
            "showbackground": true,
            "ticks": "",
            "zerolinecolor": "white"
           }
          },
          "shapedefaults": {
           "line": {
            "color": "#2a3f5f"
           }
          },
          "ternary": {
           "aaxis": {
            "gridcolor": "white",
            "linecolor": "white",
            "ticks": ""
           },
           "baxis": {
            "gridcolor": "white",
            "linecolor": "white",
            "ticks": ""
           },
           "bgcolor": "#E5ECF6",
           "caxis": {
            "gridcolor": "white",
            "linecolor": "white",
            "ticks": ""
           }
          },
          "title": {
           "x": 0.05
          },
          "xaxis": {
           "automargin": true,
           "gridcolor": "white",
           "linecolor": "white",
           "ticks": "",
           "title": {
            "standoff": 15
           },
           "zerolinecolor": "white",
           "zerolinewidth": 2
          },
          "yaxis": {
           "automargin": true,
           "gridcolor": "white",
           "linecolor": "white",
           "ticks": "",
           "title": {
            "standoff": 15
           },
           "zerolinecolor": "white",
           "zerolinewidth": 2
          }
         }
        },
        "title": {
         "text": "Prices by OS and typename"
        },
        "width": 1000,
        "xaxis": {
         "anchor": "y",
         "domain": [
          0,
          0.45
         ]
        },
        "xaxis2": {
         "anchor": "y2",
         "domain": [
          0.55,
          1
         ]
        },
        "xaxis3": {
         "anchor": "y3",
         "domain": [
          0,
          0.45
         ]
        },
        "xaxis4": {
         "anchor": "y4",
         "domain": [
          0.55,
          1
         ]
        },
        "yaxis": {
         "anchor": "x",
         "domain": [
          0.52,
          1
         ]
        },
        "yaxis2": {
         "anchor": "x2",
         "domain": [
          0.52,
          1
         ]
        },
        "yaxis3": {
         "anchor": "x3",
         "domain": [
          0,
          0.48
         ]
        },
        "yaxis4": {
         "anchor": "x4",
         "domain": [
          0,
          0.48
         ]
        }
       }
      },
      "text/html": [
       "<div>\n",
       "        \n",
       "        \n",
       "            <div id=\"b7de0a80-4a34-4ed1-99cc-2260dcd6bc31\" class=\"plotly-graph-div\" style=\"height:1000px; width:1000px;\"></div>\n",
       "            <script type=\"text/javascript\">\n",
       "                require([\"plotly\"], function(Plotly) {\n",
       "                    window.PLOTLYENV=window.PLOTLYENV || {};\n",
       "                    \n",
       "                if (document.getElementById(\"b7de0a80-4a34-4ed1-99cc-2260dcd6bc31\")) {\n",
       "                    Plotly.newPlot(\n",
       "                        'b7de0a80-4a34-4ed1-99cc-2260dcd6bc31',\n",
       "                        [{\"marker\": {\"color\": \"rgba(90, 171, 96, 0.6)\"}, \"orientation\": \"h\", \"showlegend\": false, \"type\": \"bar\", \"x\": [549.0, 1099.0, 1399.95, 2139.97, 2199.0, 2589.0, 2858.0, 4389.0, 6099.0], \"xaxis\": \"x\", \"y\": [\"Android\", \"Linux\", \"No OS\", \"Mac OS X\", \"Chrome OS\", \"Windows 10 S\", \"macOS\", \"Windows 7\", \"Windows 10\"], \"yaxis\": \"y\"}, {\"marker\": {\"color\": \"rgba(50, 171, 96, 0.6)\"}, \"orientation\": \"h\", \"showlegend\": false, \"type\": \"bar\", \"x\": [434.0, 617.0688709677419, 587.9733333333334, 1298.9924999999998, 553.5851851851852, 1286.48, 1815.7090909090912, 1686.6513333333337, 1169.8613364485986], \"xaxis\": \"x2\", \"y\": [\"Android\", \"Linux\", \"No OS\", \"Mac OS X\", \"Chrome OS\", \"Windows 10 S\", \"macOS\", \"Windows 7\", \"Windows 10\"], \"yaxis\": \"y2\"}, {\"marker\": {\"color\": \"rgba(50, 100, 96, 0.6)\"}, \"orientation\": \"h\", \"showlegend\": false, \"type\": \"bar\", \"x\": [1908.0, 2824.0, 3100.0, 4389.0, 4899.0, 6099.0], \"xaxis\": \"x3\", \"y\": [\"Netbook\", \"2 in 1 Convertible\", \"Ultrabook\", \"Workstation\", \"Notebook\", \"Gaming\"], \"yaxis\": \"y3\"}, {\"marker\": {\"color\": \"rgba(90, 10, 96, 0.8)\"}, \"orientation\": \"h\", \"showlegend\": false, \"type\": \"bar\", \"x\": [636.232, 1282.4016528925622, 1556.7039473684208, 2280.3589655172414, 783.5548551724137, 1731.380634146341], \"xaxis\": \"x4\", \"y\": [\"Netbook\", \"2 in 1 Convertible\", \"Ultrabook\", \"Workstation\", \"Notebook\", \"Gaming\"], \"yaxis\": \"y4\"}],\n",
       "                        {\"annotations\": [{\"font\": {\"size\": 16}, \"showarrow\": false, \"text\": \"Maximum price by OS\", \"x\": 0.225, \"xanchor\": \"center\", \"xref\": \"paper\", \"y\": 1.0, \"yanchor\": \"bottom\", \"yref\": \"paper\"}, {\"font\": {\"size\": 16}, \"showarrow\": false, \"text\": \"Mean price by OS\", \"x\": 0.775, \"xanchor\": \"center\", \"xref\": \"paper\", \"y\": 1.0, \"yanchor\": \"bottom\", \"yref\": \"paper\"}, {\"font\": {\"size\": 16}, \"showarrow\": false, \"text\": \"Maximum price by type name\", \"x\": 0.225, \"xanchor\": \"center\", \"xref\": \"paper\", \"y\": 0.48, \"yanchor\": \"bottom\", \"yref\": \"paper\"}, {\"font\": {\"size\": 16}, \"showarrow\": false, \"text\": \"Mean price by type name\", \"x\": 0.775, \"xanchor\": \"center\", \"xref\": \"paper\", \"y\": 0.48, \"yanchor\": \"bottom\", \"yref\": \"paper\"}], \"height\": 1000, \"paper_bgcolor\": \"rgb(233,233,233)\", \"template\": {\"data\": {\"bar\": [{\"error_x\": {\"color\": \"#2a3f5f\"}, \"error_y\": {\"color\": \"#2a3f5f\"}, \"marker\": {\"line\": {\"color\": \"#E5ECF6\", \"width\": 0.5}}, \"type\": \"bar\"}], \"barpolar\": [{\"marker\": {\"line\": {\"color\": \"#E5ECF6\", \"width\": 0.5}}, \"type\": \"barpolar\"}], \"carpet\": [{\"aaxis\": {\"endlinecolor\": \"#2a3f5f\", \"gridcolor\": \"white\", \"linecolor\": \"white\", \"minorgridcolor\": \"white\", \"startlinecolor\": \"#2a3f5f\"}, \"baxis\": {\"endlinecolor\": \"#2a3f5f\", \"gridcolor\": \"white\", \"linecolor\": \"white\", \"minorgridcolor\": \"white\", \"startlinecolor\": \"#2a3f5f\"}, \"type\": \"carpet\"}], \"choropleth\": [{\"colorbar\": {\"outlinewidth\": 0, \"ticks\": \"\"}, \"type\": \"choropleth\"}], \"contour\": [{\"colorbar\": {\"outlinewidth\": 0, \"ticks\": \"\"}, \"colorscale\": [[0.0, \"#0d0887\"], [0.1111111111111111, \"#46039f\"], [0.2222222222222222, \"#7201a8\"], [0.3333333333333333, \"#9c179e\"], [0.4444444444444444, \"#bd3786\"], [0.5555555555555556, \"#d8576b\"], [0.6666666666666666, \"#ed7953\"], [0.7777777777777778, \"#fb9f3a\"], [0.8888888888888888, \"#fdca26\"], [1.0, \"#f0f921\"]], \"type\": \"contour\"}], \"contourcarpet\": [{\"colorbar\": {\"outlinewidth\": 0, \"ticks\": \"\"}, \"type\": \"contourcarpet\"}], \"heatmap\": [{\"colorbar\": {\"outlinewidth\": 0, \"ticks\": \"\"}, \"colorscale\": [[0.0, \"#0d0887\"], [0.1111111111111111, \"#46039f\"], [0.2222222222222222, \"#7201a8\"], [0.3333333333333333, \"#9c179e\"], [0.4444444444444444, \"#bd3786\"], [0.5555555555555556, \"#d8576b\"], [0.6666666666666666, \"#ed7953\"], [0.7777777777777778, \"#fb9f3a\"], [0.8888888888888888, \"#fdca26\"], [1.0, \"#f0f921\"]], \"type\": \"heatmap\"}], \"heatmapgl\": [{\"colorbar\": {\"outlinewidth\": 0, \"ticks\": \"\"}, \"colorscale\": [[0.0, \"#0d0887\"], [0.1111111111111111, \"#46039f\"], [0.2222222222222222, \"#7201a8\"], [0.3333333333333333, \"#9c179e\"], [0.4444444444444444, \"#bd3786\"], [0.5555555555555556, \"#d8576b\"], [0.6666666666666666, \"#ed7953\"], [0.7777777777777778, \"#fb9f3a\"], [0.8888888888888888, \"#fdca26\"], [1.0, \"#f0f921\"]], \"type\": \"heatmapgl\"}], \"histogram\": [{\"marker\": {\"colorbar\": {\"outlinewidth\": 0, \"ticks\": \"\"}}, \"type\": \"histogram\"}], \"histogram2d\": [{\"colorbar\": {\"outlinewidth\": 0, \"ticks\": \"\"}, \"colorscale\": [[0.0, \"#0d0887\"], [0.1111111111111111, \"#46039f\"], [0.2222222222222222, \"#7201a8\"], [0.3333333333333333, \"#9c179e\"], [0.4444444444444444, \"#bd3786\"], [0.5555555555555556, \"#d8576b\"], [0.6666666666666666, \"#ed7953\"], [0.7777777777777778, \"#fb9f3a\"], [0.8888888888888888, \"#fdca26\"], [1.0, \"#f0f921\"]], \"type\": \"histogram2d\"}], \"histogram2dcontour\": [{\"colorbar\": {\"outlinewidth\": 0, \"ticks\": \"\"}, \"colorscale\": [[0.0, \"#0d0887\"], [0.1111111111111111, \"#46039f\"], [0.2222222222222222, \"#7201a8\"], [0.3333333333333333, \"#9c179e\"], [0.4444444444444444, \"#bd3786\"], [0.5555555555555556, \"#d8576b\"], [0.6666666666666666, \"#ed7953\"], [0.7777777777777778, \"#fb9f3a\"], [0.8888888888888888, \"#fdca26\"], [1.0, \"#f0f921\"]], \"type\": \"histogram2dcontour\"}], \"mesh3d\": [{\"colorbar\": {\"outlinewidth\": 0, \"ticks\": \"\"}, \"type\": \"mesh3d\"}], \"parcoords\": [{\"line\": {\"colorbar\": {\"outlinewidth\": 0, \"ticks\": \"\"}}, \"type\": \"parcoords\"}], \"pie\": [{\"automargin\": true, \"type\": \"pie\"}], \"scatter\": [{\"marker\": {\"colorbar\": {\"outlinewidth\": 0, \"ticks\": \"\"}}, \"type\": \"scatter\"}], \"scatter3d\": [{\"line\": {\"colorbar\": {\"outlinewidth\": 0, \"ticks\": \"\"}}, \"marker\": {\"colorbar\": {\"outlinewidth\": 0, \"ticks\": \"\"}}, \"type\": \"scatter3d\"}], \"scattercarpet\": [{\"marker\": {\"colorbar\": {\"outlinewidth\": 0, \"ticks\": \"\"}}, \"type\": \"scattercarpet\"}], \"scattergeo\": [{\"marker\": {\"colorbar\": {\"outlinewidth\": 0, \"ticks\": \"\"}}, \"type\": \"scattergeo\"}], \"scattergl\": [{\"marker\": {\"colorbar\": {\"outlinewidth\": 0, \"ticks\": \"\"}}, \"type\": \"scattergl\"}], \"scattermapbox\": [{\"marker\": {\"colorbar\": {\"outlinewidth\": 0, \"ticks\": \"\"}}, \"type\": \"scattermapbox\"}], \"scatterpolar\": [{\"marker\": {\"colorbar\": {\"outlinewidth\": 0, \"ticks\": \"\"}}, \"type\": \"scatterpolar\"}], \"scatterpolargl\": [{\"marker\": {\"colorbar\": {\"outlinewidth\": 0, \"ticks\": \"\"}}, \"type\": \"scatterpolargl\"}], \"scatterternary\": [{\"marker\": {\"colorbar\": {\"outlinewidth\": 0, \"ticks\": \"\"}}, \"type\": \"scatterternary\"}], \"surface\": [{\"colorbar\": {\"outlinewidth\": 0, \"ticks\": \"\"}, \"colorscale\": [[0.0, \"#0d0887\"], [0.1111111111111111, \"#46039f\"], [0.2222222222222222, \"#7201a8\"], [0.3333333333333333, \"#9c179e\"], [0.4444444444444444, \"#bd3786\"], [0.5555555555555556, \"#d8576b\"], [0.6666666666666666, \"#ed7953\"], [0.7777777777777778, \"#fb9f3a\"], [0.8888888888888888, \"#fdca26\"], [1.0, \"#f0f921\"]], \"type\": \"surface\"}], \"table\": [{\"cells\": {\"fill\": {\"color\": \"#EBF0F8\"}, \"line\": {\"color\": \"white\"}}, \"header\": {\"fill\": {\"color\": \"#C8D4E3\"}, \"line\": {\"color\": \"white\"}}, \"type\": \"table\"}]}, \"layout\": {\"annotationdefaults\": {\"arrowcolor\": \"#2a3f5f\", \"arrowhead\": 0, \"arrowwidth\": 1}, \"coloraxis\": {\"colorbar\": {\"outlinewidth\": 0, \"ticks\": \"\"}}, \"colorscale\": {\"diverging\": [[0, \"#8e0152\"], [0.1, \"#c51b7d\"], [0.2, \"#de77ae\"], [0.3, \"#f1b6da\"], [0.4, \"#fde0ef\"], [0.5, \"#f7f7f7\"], [0.6, \"#e6f5d0\"], [0.7, \"#b8e186\"], [0.8, \"#7fbc41\"], [0.9, \"#4d9221\"], [1, \"#276419\"]], \"sequential\": [[0.0, \"#0d0887\"], [0.1111111111111111, \"#46039f\"], [0.2222222222222222, \"#7201a8\"], [0.3333333333333333, \"#9c179e\"], [0.4444444444444444, \"#bd3786\"], [0.5555555555555556, \"#d8576b\"], [0.6666666666666666, \"#ed7953\"], [0.7777777777777778, \"#fb9f3a\"], [0.8888888888888888, \"#fdca26\"], [1.0, \"#f0f921\"]], \"sequentialminus\": [[0.0, \"#0d0887\"], [0.1111111111111111, \"#46039f\"], [0.2222222222222222, \"#7201a8\"], [0.3333333333333333, \"#9c179e\"], [0.4444444444444444, \"#bd3786\"], [0.5555555555555556, \"#d8576b\"], [0.6666666666666666, \"#ed7953\"], [0.7777777777777778, \"#fb9f3a\"], [0.8888888888888888, \"#fdca26\"], [1.0, \"#f0f921\"]]}, \"colorway\": [\"#636efa\", \"#EF553B\", \"#00cc96\", \"#ab63fa\", \"#FFA15A\", \"#19d3f3\", \"#FF6692\", \"#B6E880\", \"#FF97FF\", \"#FECB52\"], \"font\": {\"color\": \"#2a3f5f\"}, \"geo\": {\"bgcolor\": \"white\", \"lakecolor\": \"white\", \"landcolor\": \"#E5ECF6\", \"showlakes\": true, \"showland\": true, \"subunitcolor\": \"white\"}, \"hoverlabel\": {\"align\": \"left\"}, \"hovermode\": \"closest\", \"mapbox\": {\"style\": \"light\"}, \"paper_bgcolor\": \"white\", \"plot_bgcolor\": \"#E5ECF6\", \"polar\": {\"angularaxis\": {\"gridcolor\": \"white\", \"linecolor\": \"white\", \"ticks\": \"\"}, \"bgcolor\": \"#E5ECF6\", \"radialaxis\": {\"gridcolor\": \"white\", \"linecolor\": \"white\", \"ticks\": \"\"}}, \"scene\": {\"xaxis\": {\"backgroundcolor\": \"#E5ECF6\", \"gridcolor\": \"white\", \"gridwidth\": 2, \"linecolor\": \"white\", \"showbackground\": true, \"ticks\": \"\", \"zerolinecolor\": \"white\"}, \"yaxis\": {\"backgroundcolor\": \"#E5ECF6\", \"gridcolor\": \"white\", \"gridwidth\": 2, \"linecolor\": \"white\", \"showbackground\": true, \"ticks\": \"\", \"zerolinecolor\": \"white\"}, \"zaxis\": {\"backgroundcolor\": \"#E5ECF6\", \"gridcolor\": \"white\", \"gridwidth\": 2, \"linecolor\": \"white\", \"showbackground\": true, \"ticks\": \"\", \"zerolinecolor\": \"white\"}}, \"shapedefaults\": {\"line\": {\"color\": \"#2a3f5f\"}}, \"ternary\": {\"aaxis\": {\"gridcolor\": \"white\", \"linecolor\": \"white\", \"ticks\": \"\"}, \"baxis\": {\"gridcolor\": \"white\", \"linecolor\": \"white\", \"ticks\": \"\"}, \"bgcolor\": \"#E5ECF6\", \"caxis\": {\"gridcolor\": \"white\", \"linecolor\": \"white\", \"ticks\": \"\"}}, \"title\": {\"x\": 0.05}, \"xaxis\": {\"automargin\": true, \"gridcolor\": \"white\", \"linecolor\": \"white\", \"ticks\": \"\", \"title\": {\"standoff\": 15}, \"zerolinecolor\": \"white\", \"zerolinewidth\": 2}, \"yaxis\": {\"automargin\": true, \"gridcolor\": \"white\", \"linecolor\": \"white\", \"ticks\": \"\", \"title\": {\"standoff\": 15}, \"zerolinecolor\": \"white\", \"zerolinewidth\": 2}}}, \"title\": {\"text\": \"Prices by OS and typename\"}, \"width\": 1000, \"xaxis\": {\"anchor\": \"y\", \"domain\": [0.0, 0.45]}, \"xaxis2\": {\"anchor\": \"y2\", \"domain\": [0.55, 1.0]}, \"xaxis3\": {\"anchor\": \"y3\", \"domain\": [0.0, 0.45]}, \"xaxis4\": {\"anchor\": \"y4\", \"domain\": [0.55, 1.0]}, \"yaxis\": {\"anchor\": \"x\", \"domain\": [0.52, 1.0]}, \"yaxis2\": {\"anchor\": \"x2\", \"domain\": [0.52, 1.0]}, \"yaxis3\": {\"anchor\": \"x3\", \"domain\": [0.0, 0.48]}, \"yaxis4\": {\"anchor\": \"x4\", \"domain\": [0.0, 0.48]}},\n",
       "                        {\"responsive\": true}\n",
       "                    ).then(function(){\n",
       "                            \n",
       "var gd = document.getElementById('b7de0a80-4a34-4ed1-99cc-2260dcd6bc31');\n",
       "var x = new MutationObserver(function (mutations, observer) {{\n",
       "        var display = window.getComputedStyle(gd).display;\n",
       "        if (!display || display === 'none') {{\n",
       "            console.log([gd, 'removed!']);\n",
       "            Plotly.purge(gd);\n",
       "            observer.disconnect();\n",
       "        }}\n",
       "}});\n",
       "\n",
       "// Listen for the removal of the full notebook cells\n",
       "var notebookContainer = gd.closest('#notebook-container');\n",
       "if (notebookContainer) {{\n",
       "    x.observe(notebookContainer, {childList: true});\n",
       "}}\n",
       "\n",
       "// Listen for the clearing of the current output cell\n",
       "var outputEl = gd.closest('.output');\n",
       "if (outputEl) {{\n",
       "    x.observe(outputEl, {childList: true});\n",
       "}}\n",
       "\n",
       "                        })\n",
       "                };\n",
       "                });\n",
       "            </script>\n",
       "        </div>"
      ]
     },
     "metadata": {},
     "output_type": "display_data"
    }
   ],
   "source": [
    "from plotly import tools\n",
    "import plotly.offline as py\n",
    "import plotly.graph_objects as go\n",
    "def horizontal_bar_chart(cnt_srs, color):\n",
    "    trace = go.Bar(\n",
    "        y=cnt_srs.index[::-1],\n",
    "        x=cnt_srs.values[::-1],\n",
    "        showlegend=False,\n",
    "        orientation = 'h',\n",
    "        marker=dict(\n",
    "            color=color,\n",
    "        ),\n",
    "    )\n",
    "    return trace\n",
    "\n",
    "# SSD\n",
    "cnt_srs = data.groupby('TypeName')['Price_euros'].agg(['max', 'mean'])\n",
    "cnt_srs.columns = [ \"Maximum price\", \"mean\"]\n",
    "cnt_srs = cnt_srs.sort_values(by=\"Maximum price\", ascending=False)\n",
    "\n",
    "trace3 = horizontal_bar_chart(cnt_srs[\"Maximum price\"].head(10), 'rgba(50, 100, 96, 0.6)')\n",
    "trace4 = horizontal_bar_chart(cnt_srs[\"mean\"].head(10), 'rgba(90, 10, 96, 0.8)')\n",
    "\n",
    "\n",
    "# OS\n",
    "cnt_srs = data.groupby('OpSys')['Price_euros'].agg(['max', 'mean'])\n",
    "cnt_srs.columns = [ \"Maximum price\", \"mean\"]\n",
    "cnt_srs = cnt_srs.sort_values(by=\"Maximum price\", ascending=False)\n",
    "\n",
    "trace1 = horizontal_bar_chart(cnt_srs[\"Maximum price\"].head(10), 'rgba(90, 171, 96, 0.6)')\n",
    "trace2 = horizontal_bar_chart(cnt_srs[\"mean\"].head(10), 'rgba(50, 171, 96, 0.6)')\n",
    "\n",
    "\n",
    "# Creating two subplots\n",
    "fig = tools.make_subplots(rows=2, cols=2, vertical_spacing=0.04, \n",
    "                          subplot_titles=[\"Maximum price by OS\", \"Mean price by OS\",\"Maximum price by type name\",\"Mean price by type name\"])\n",
    "\n",
    "fig.append_trace(trace1, 1, 1)\n",
    "fig.append_trace(trace2, 1, 2)\n",
    "fig.append_trace(trace3, 2, 1)\n",
    "fig.append_trace(trace4, 2, 2)\n",
    "\n",
    "\n",
    "fig['layout'].update(height=1000, width=1000, paper_bgcolor='rgb(233,233,233)', title=\"Prices by OS and typename\")\n",
    "py.iplot(fig, filename='Prices')"
   ]
  },
  {
   "cell_type": "code",
   "execution_count": 8,
   "metadata": {},
   "outputs": [
    {
     "data": {
      "text/html": [
       "<div>\n",
       "<style scoped>\n",
       "    .dataframe tbody tr th:only-of-type {\n",
       "        vertical-align: middle;\n",
       "    }\n",
       "\n",
       "    .dataframe tbody tr th {\n",
       "        vertical-align: top;\n",
       "    }\n",
       "\n",
       "    .dataframe thead th {\n",
       "        text-align: right;\n",
       "    }\n",
       "</style>\n",
       "<table border=\"1\" class=\"dataframe\">\n",
       "  <thead>\n",
       "    <tr style=\"text-align: right;\">\n",
       "      <th></th>\n",
       "      <th>Company</th>\n",
       "      <th>TypeName</th>\n",
       "      <th>Inches</th>\n",
       "      <th>Ram</th>\n",
       "      <th>OpSys</th>\n",
       "      <th>Weight</th>\n",
       "      <th>Price_euros</th>\n",
       "      <th>isTouchScreen</th>\n",
       "      <th>PPI</th>\n",
       "      <th>ProcessorFrequency</th>\n",
       "      <th>GPU_performance_rate</th>\n",
       "      <th>SSD</th>\n",
       "      <th>HDD</th>\n",
       "    </tr>\n",
       "  </thead>\n",
       "  <tbody>\n",
       "    <tr>\n",
       "      <td>0</td>\n",
       "      <td>Apple</td>\n",
       "      <td>Ultrabook</td>\n",
       "      <td>13.3</td>\n",
       "      <td>8</td>\n",
       "      <td>macOS</td>\n",
       "      <td>1.37</td>\n",
       "      <td>1339.69</td>\n",
       "      <td>0</td>\n",
       "      <td>226.983005</td>\n",
       "      <td>2.3</td>\n",
       "      <td>0</td>\n",
       "      <td>128</td>\n",
       "      <td>0</td>\n",
       "    </tr>\n",
       "    <tr>\n",
       "      <td>1</td>\n",
       "      <td>Apple</td>\n",
       "      <td>Ultrabook</td>\n",
       "      <td>13.3</td>\n",
       "      <td>8</td>\n",
       "      <td>macOS</td>\n",
       "      <td>1.34</td>\n",
       "      <td>898.94</td>\n",
       "      <td>0</td>\n",
       "      <td>127.677940</td>\n",
       "      <td>1.8</td>\n",
       "      <td>0</td>\n",
       "      <td>128</td>\n",
       "      <td>0</td>\n",
       "    </tr>\n",
       "    <tr>\n",
       "      <td>2</td>\n",
       "      <td>HP</td>\n",
       "      <td>Notebook</td>\n",
       "      <td>15.6</td>\n",
       "      <td>8</td>\n",
       "      <td>No OS</td>\n",
       "      <td>1.86</td>\n",
       "      <td>575.00</td>\n",
       "      <td>0</td>\n",
       "      <td>141.211998</td>\n",
       "      <td>2.5</td>\n",
       "      <td>0</td>\n",
       "      <td>256</td>\n",
       "      <td>0</td>\n",
       "    </tr>\n",
       "    <tr>\n",
       "      <td>3</td>\n",
       "      <td>Apple</td>\n",
       "      <td>Ultrabook</td>\n",
       "      <td>15.4</td>\n",
       "      <td>16</td>\n",
       "      <td>macOS</td>\n",
       "      <td>1.83</td>\n",
       "      <td>2537.45</td>\n",
       "      <td>0</td>\n",
       "      <td>220.534624</td>\n",
       "      <td>2.7</td>\n",
       "      <td>1</td>\n",
       "      <td>512</td>\n",
       "      <td>0</td>\n",
       "    </tr>\n",
       "    <tr>\n",
       "      <td>4</td>\n",
       "      <td>Apple</td>\n",
       "      <td>Ultrabook</td>\n",
       "      <td>13.3</td>\n",
       "      <td>8</td>\n",
       "      <td>macOS</td>\n",
       "      <td>1.37</td>\n",
       "      <td>1803.60</td>\n",
       "      <td>0</td>\n",
       "      <td>226.983005</td>\n",
       "      <td>3.1</td>\n",
       "      <td>0</td>\n",
       "      <td>256</td>\n",
       "      <td>0</td>\n",
       "    </tr>\n",
       "    <tr>\n",
       "      <td>...</td>\n",
       "      <td>...</td>\n",
       "      <td>...</td>\n",
       "      <td>...</td>\n",
       "      <td>...</td>\n",
       "      <td>...</td>\n",
       "      <td>...</td>\n",
       "      <td>...</td>\n",
       "      <td>...</td>\n",
       "      <td>...</td>\n",
       "      <td>...</td>\n",
       "      <td>...</td>\n",
       "      <td>...</td>\n",
       "      <td>...</td>\n",
       "    </tr>\n",
       "    <tr>\n",
       "      <td>1298</td>\n",
       "      <td>Lenovo</td>\n",
       "      <td>2 in 1 Convertible</td>\n",
       "      <td>14.0</td>\n",
       "      <td>4</td>\n",
       "      <td>Windows 10</td>\n",
       "      <td>1.8</td>\n",
       "      <td>638.00</td>\n",
       "      <td>1</td>\n",
       "      <td>157.350512</td>\n",
       "      <td>2.5</td>\n",
       "      <td>0</td>\n",
       "      <td>128</td>\n",
       "      <td>0</td>\n",
       "    </tr>\n",
       "    <tr>\n",
       "      <td>1299</td>\n",
       "      <td>Lenovo</td>\n",
       "      <td>2 in 1 Convertible</td>\n",
       "      <td>13.3</td>\n",
       "      <td>16</td>\n",
       "      <td>Windows 10</td>\n",
       "      <td>1.3</td>\n",
       "      <td>1499.00</td>\n",
       "      <td>1</td>\n",
       "      <td>276.053530</td>\n",
       "      <td>2.5</td>\n",
       "      <td>0</td>\n",
       "      <td>512</td>\n",
       "      <td>0</td>\n",
       "    </tr>\n",
       "    <tr>\n",
       "      <td>1300</td>\n",
       "      <td>Lenovo</td>\n",
       "      <td>Notebook</td>\n",
       "      <td>14.0</td>\n",
       "      <td>2</td>\n",
       "      <td>Windows 10</td>\n",
       "      <td>1.5</td>\n",
       "      <td>229.00</td>\n",
       "      <td>0</td>\n",
       "      <td>111.935204</td>\n",
       "      <td>1.6</td>\n",
       "      <td>0</td>\n",
       "      <td>64</td>\n",
       "      <td>0</td>\n",
       "    </tr>\n",
       "    <tr>\n",
       "      <td>1301</td>\n",
       "      <td>HP</td>\n",
       "      <td>Notebook</td>\n",
       "      <td>15.6</td>\n",
       "      <td>6</td>\n",
       "      <td>Windows 10</td>\n",
       "      <td>2.19</td>\n",
       "      <td>764.00</td>\n",
       "      <td>0</td>\n",
       "      <td>100.454670</td>\n",
       "      <td>2.5</td>\n",
       "      <td>1</td>\n",
       "      <td>0</td>\n",
       "      <td>1000</td>\n",
       "    </tr>\n",
       "    <tr>\n",
       "      <td>1302</td>\n",
       "      <td>Asus</td>\n",
       "      <td>Notebook</td>\n",
       "      <td>15.6</td>\n",
       "      <td>4</td>\n",
       "      <td>Windows 10</td>\n",
       "      <td>2.2</td>\n",
       "      <td>369.00</td>\n",
       "      <td>0</td>\n",
       "      <td>100.454670</td>\n",
       "      <td>1.6</td>\n",
       "      <td>0</td>\n",
       "      <td>0</td>\n",
       "      <td>500</td>\n",
       "    </tr>\n",
       "  </tbody>\n",
       "</table>\n",
       "<p>1303 rows × 13 columns</p>\n",
       "</div>"
      ],
      "text/plain": [
       "     Company            TypeName  Inches Ram       OpSys Weight  Price_euros  \\\n",
       "0      Apple           Ultrabook    13.3   8       macOS   1.37      1339.69   \n",
       "1      Apple           Ultrabook    13.3   8       macOS   1.34       898.94   \n",
       "2         HP            Notebook    15.6   8       No OS   1.86       575.00   \n",
       "3      Apple           Ultrabook    15.4  16       macOS   1.83      2537.45   \n",
       "4      Apple           Ultrabook    13.3   8       macOS   1.37      1803.60   \n",
       "...      ...                 ...     ...  ..         ...    ...          ...   \n",
       "1298  Lenovo  2 in 1 Convertible    14.0   4  Windows 10    1.8       638.00   \n",
       "1299  Lenovo  2 in 1 Convertible    13.3  16  Windows 10    1.3      1499.00   \n",
       "1300  Lenovo            Notebook    14.0   2  Windows 10    1.5       229.00   \n",
       "1301      HP            Notebook    15.6   6  Windows 10   2.19       764.00   \n",
       "1302    Asus            Notebook    15.6   4  Windows 10    2.2       369.00   \n",
       "\n",
       "      isTouchScreen         PPI ProcessorFrequency  GPU_performance_rate  SSD  \\\n",
       "0                 0  226.983005                2.3                     0  128   \n",
       "1                 0  127.677940                1.8                     0  128   \n",
       "2                 0  141.211998                2.5                     0  256   \n",
       "3                 0  220.534624                2.7                     1  512   \n",
       "4                 0  226.983005                3.1                     0  256   \n",
       "...             ...         ...                ...                   ...  ...   \n",
       "1298              1  157.350512                2.5                     0  128   \n",
       "1299              1  276.053530                2.5                     0  512   \n",
       "1300              0  111.935204                1.6                     0   64   \n",
       "1301              0  100.454670                2.5                     1    0   \n",
       "1302              0  100.454670                1.6                     0    0   \n",
       "\n",
       "       HDD  \n",
       "0        0  \n",
       "1        0  \n",
       "2        0  \n",
       "3        0  \n",
       "4        0  \n",
       "...    ...  \n",
       "1298     0  \n",
       "1299     0  \n",
       "1300     0  \n",
       "1301  1000  \n",
       "1302   500  \n",
       "\n",
       "[1303 rows x 13 columns]"
      ]
     },
     "execution_count": 8,
     "metadata": {},
     "output_type": "execute_result"
    }
   ],
   "source": [
    "import pandas as pd\n",
    "import numpy as np\n",
    "import re\n",
    "import math \n",
    "\n",
    "data = pd.read_csv(\"./laptops.csv\", encoding = \"ISO-8859-1\")\n",
    "\n",
    "\n",
    "def getNumber(string):\n",
    "    number = 4\n",
    "    try:\n",
    "        number = re.findall(\"\\d+\", string)[0]\n",
    "    except TypeError:\n",
    "        number= 4\n",
    "    return number\n",
    "\n",
    "def countPPI(row):\n",
    "    screen = row[\"ScreenResolution\"]\n",
    "    diagonal = row[\"Inches\"]\n",
    "    ppi = 0\n",
    "    try:\n",
    "        w = float(re.findall(\"\\d+\", screen)[-2])\n",
    "        h = float(re.findall(\"\\d+\", screen)[-1])\n",
    "        ppi = math.sqrt(w*w + h*h) / diagonal\n",
    "    except TypeError:\n",
    "        ppi = 100\n",
    "    return ppi\n",
    "\n",
    "def isTouchScreen(screen):\n",
    "    screen = str(screen)\n",
    "    if screen.find(\"Touchscreen\") > 0:\n",
    "        return 1\n",
    "    return 0\n",
    "\n",
    "def getFlotNumber(string):\n",
    "    number = 1\n",
    "    try:\n",
    "        number = re.findall(\"\\d+\\.\\d+\", string)[0]\n",
    "    except:\n",
    "        number= 1\n",
    "    \n",
    "    return number\n",
    "\n",
    "# 0 - mobile 1- middle 2 - performance\n",
    "def defineVideocardClass(cardName):\n",
    "    cardName = str(cardName)\n",
    "    \n",
    "    performanceClass = 0\n",
    "    if \"GTX\" in cardName or \"Quadro\" in cardName:\n",
    "        performanceClass = 2\n",
    "    if \"AMD Radeon\" in cardName:\n",
    "        performanceClass = 1\n",
    "    return performanceClass\n",
    "\n",
    "def countMemorySSD(memory):\n",
    "    memory = str(memory)\n",
    "    memory = memory.replace(\"TB\", \"000GB\")\n",
    "    memory = memory.replace(\"Flash Storage\", \"SSD\")\n",
    "    ssdCapacity = 0\n",
    "    \n",
    "    if memory == 'nan':\n",
    "        ssdCapacity = 128\n",
    "    ssds = re.findall(\"\\d+GB\\ SSD\", memory)\n",
    "    \n",
    "    for ssd in ssds: \n",
    "        ssdCapacity = ssdCapacity + int(getNumber(ssd))\n",
    "    \n",
    "    return ssdCapacity\n",
    "\n",
    "def countMemoryHDD(memory):\n",
    "    memory = str(memory)\n",
    "    memory = memory.replace(\"TB\", \"000GB\")\n",
    "    memory = memory.replace(\"Flash Storage\", \"SSD\")\n",
    "    hddCapacity = 0\n",
    "    hdds = re.findall(\"\\d+GB\\ HDD\", memory)\n",
    "    \n",
    "    for hdd in hdds: \n",
    "        hddCapacity = hddCapacity + int(getNumber(hdd))\n",
    "    \n",
    "    return hddCapacity\n",
    "\n",
    "data[\"Ram\"] = data[\"Ram\"].apply(getNumber)\n",
    "data[\"isTouchScreen\"] = data[\"ScreenResolution\"].apply(isTouchScreen)\n",
    "data[\"PPI\"] = data.apply(countPPI, axis=1)\n",
    "data[\"Weight\"] = data[\"Weight\"].apply(getFlotNumber)\n",
    "data[\"ProcessorFrequency\"] = data[\"Cpu\"].apply(getFlotNumber)\n",
    "data[\"GPU_performance_rate\"] = data[\"Gpu\"].apply(defineVideocardClass)\n",
    "data[\"SSD\"] = data[\"Memory\"].apply(countMemorySSD)\n",
    "data[\"HDD\"] = data[\"Memory\"].apply(countMemoryHDD)\n",
    "\n",
    "\n",
    "\n",
    "data = data.drop([\"0\"],axis=1)\n",
    "data = data.drop([\"Product\"],axis=1)\n",
    "data = data.drop([\"ScreenResolution\"],axis=1)\n",
    "data = data.drop([\"Cpu\"],axis=1)\n",
    "data = data.drop([\"Gpu\"],axis=1)\n",
    "data = data.drop([\"Memory\"],axis=1)\n",
    "\n",
    "data"
   ]
  },
  {
   "cell_type": "code",
   "execution_count": 36,
   "metadata": {},
   "outputs": [
    {
     "name": "stdout",
     "output_type": "stream",
     "text": [
      "mean=1124.317 stdv=699.923\n"
     ]
    },
    {
     "data": {
      "application/vnd.plotly.v1+json": {
       "config": {
        "linkText": "Export to plot.ly",
        "plotlyServerURL": "https://plot.ly",
        "showLink": false
       },
       "data": [
        {
         "type": "histogram",
         "x": [
          1339.69,
          898.94,
          575,
          2537.45,
          1803.6,
          400,
          2139.97,
          1158.7,
          1495,
          770,
          393.9,
          344.99,
          2439.97,
          498.9,
          null,
          1518.55,
          745,
          2858,
          499,
          979,
          191.9,
          999,
          258,
          819,
          659,
          418.64,
          1099,
          800,
          1298,
          896,
          null,
          199,
          439,
          1869,
          998,
          249,
          367,
          979,
          488.69,
          879,
          389,
          1499,
          522.99,
          682,
          999,
          1419,
          369,
          1299,
          639,
          466,
          319,
          841,
          398.49,
          1103,
          384,
          767.8,
          439,
          586.19,
          2449,
          415,
          1299,
          879,
          599,
          941,
          690,
          1983,
          438.69,
          229,
          549,
          949,
          1089,
          955,
          870,
          1095,
          389,
          949,
          519,
          855,
          530,
          977,
          1096.16,
          null,
          860,
          399,
          395,
          1349,
          699,
          598.99,
          1449,
          1649,
          699,
          689,
          1197,
          1195,
          1049,
          847,
          599.9,
          485,
          577,
          1249,
          719,
          349,
          647,
          1119,
          1340,
          659,
          414.9,
          1193,
          1299,
          1480,
          1262,
          1379,
          1399,
          722,
          1629,
          1398.99,
          1084,
          1130.33,
          564,
          1118,
          479,
          2241.5,
          629,
          1271,
          451,
          259,
          812,
          277.99,
          1396,
          928,
          638.99,
          449,
          884,
          572,
          598,
          988,
          252.36,
          938,
          499,
          699,
          655,
          1116.02,
          869,
          602,
          369,
          1099,
          2014,
          344,
          2029,
          447,
          1249.26,
          899,
          498,
          1890,
          1082,
          619,
          629,
          1315,
          1049,
          447,
          403,
          805,
          728,
          1079,
          348,
          1799,
          363.51,
          1060.49,
          854,
          754,
          1349,
          699,
          309,
          489,
          923,
          459,
          449,
          2799,
          813,
          1499,
          1049,
          1399,
          1849,
          793,
          1199,
          1549,
          2397,
          779,
          989,
          1085,
          2824,
          260,
          999.9,
          698,
          839,
          914,
          6099,
          959,
          1379,
          1045,
          1845,
          493,
          742,
          1749,
          3055,
          1398,
          439,
          1949,
          1449,
          597,
          779,
          1407,
          349,
          549,
          1499,
          931.88,
          589,
          1031,
          1149,
          1279,
          677.35,
          899,
          1363,
          794,
          2456.34,
          832,
          859.01,
          769,
          891,
          1269,
          398.99,
          330,
          1499,
          859,
          689,
          899,
          390,
          575,
          3890,
          846,
          589,
          1145,
          889,
          879,
          1079,
          985,
          559,
          2999,
          675,
          2040,
          819,
          1799,
          469,
          1849,
          702,
          949,
          445.9,
          1059,
          2499,
          1699,
          1142,
          444,
          722,
          657,
          565,
          799,
          1499,
          467,
          1018,
          880,
          1958.9,
          1549,
          735.07,
          2499,
          812,
          713.07,
          1099,
          745,
          489,
          849,
          859,
          428,
          829,
          579,
          951,
          659,
          1097,
          977,
          1179,
          659.01,
          199,
          1187,
          489,
          1829,
          739,
          1299,
          979,
          2884.86,
          499,
          1468,
          509,
          2122,
          649,
          549,
          1265,
          359.99,
          1975,
          1043,
          819,
          469,
          999,
          2499,
          2099,
          469,
          275,
          844,
          2449,
          459.9,
          980,
          485,
          1292,
          589,
          1094,
          902,
          659,
          292,
          549,
          1049.9,
          1335,
          2639,
          1199,
          943,
          1334,
          449,
          999,
          1268,
          1049,
          1144,
          274.99,
          1142.75,
          274.9,
          899,
          716,
          2099,
          1579,
          1129,
          279,
          1607.96,
          375,
          663,
          2027.42,
          1304,
          1409,
          1738.27,
          1403,
          970.9,
          321.99,
          999,
          557.37,
          1427,
          439,
          945,
          719,
          639,
          499,
          389,
          1085,
          809,
          899,
          1750,
          1099,
          426,
          2199,
          489,
          869.01,
          488.99,
          553,
          309,
          286,
          846,
          1191,
          403.5,
          1655,
          1099,
          1748.9,
          2282,
          549,
          1369,
          2135,
          2509,
          1039,
          1591,
          693.99,
          1349,
          778.87,
          499,
          1229.56,
          938,
          2712,
          2625,
          306,
          1529,
          1144.5,
          879,
          2249,
          1873,
          1747,
          1680,
          409,
          304.45,
          1925,
          1943,
          469,
          789.01,
          928,
          598.9,
          689,
          1500,
          539.95,
          1215.38,
          1899,
          449,
          1427,
          597,
          2799,
          1159,
          1142.4,
          1099,
          1999,
          299,
          269,
          1010,
          599,
          2445,
          2449,
          1695,
          347,
          2199,
          2382,
          559,
          519,
          749,
          1429,
          349,
          1099,
          1179,
          441.8,
          1993,
          1027.74,
          2589,
          589,
          1975,
          1534,
          1345,
          979,
          479,
          2046,
          989,
          1799,
          639.9,
          544,
          435,
          749,
          799,
          2090,
          304,
          469,
          759,
          1699,
          1858,
          1999,
          1154,
          1275,
          1841.85,
          1299,
          740,
          2408,
          1364,
          675,
          1672,
          1262,
          586.6,
          726,
          null,
          565,
          1049,
          2338,
          1899,
          1798,
          1950,
          1011.99,
          2799,
          1350,
          579,
          1269,
          1099,
          898.9,
          1749,
          949,
          911,
          340,
          618.99,
          1599,
          299,
          265,
          949,
          1224,
          613,
          1323,
          1149,
          899,
          639,
          836,
          1219.24,
          1399.95,
          245,
          521.47,
          2968,
          889,
          1504,
          1399,
          1399,
          1279.73,
          689,
          889,
          1340,
          799,
          459,
          585,
          1377,
          3012.77,
          860,
          1299,
          369,
          1649,
          1369,
          797.41,
          398.99,
          1799,
          859,
          1399,
          735.87,
          1145,
          798,
          349,
          705.5,
          785,
          462.35,
          397,
          1729,
          499,
          1116.99,
          2699,
          544.15,
          1280,
          224,
          255,
          949,
          568.9,
          617.9,
          349,
          630,
          1965,
          2999,
          839,
          1599,
          959,
          739,
          344,
          990,
          1860.99,
          389,
          649,
          830,
          685,
          249,
          1865,
          2663,
          2729,
          749.01,
          389,
          1008.52,
          719,
          1537.39,
          295,
          2349,
          1498,
          1673,
          609,
          1770,
          739,
          949,
          603,
          1699,
          529,
          459,
          2025,
          1474,
          1670,
          1763,
          1219,
          668.48,
          329,
          2199,
          465,
          2299,
          1399,
          564,
          1299,
          349,
          4899,
          879.01,
          443.9,
          359,
          869,
          1168,
          569,
          1389,
          2267.86,
          379,
          1124,
          1465,
          776,
          799,
          932,
          899,
          239,
          468,
          639.01,
          1820,
          1900,
          1479,
          829,
          579,
          399,
          906.62,
          1869,
          249,
          1757.42,
          2399,
          1109,
          520.9,
          2450,
          1169,
          450,
          274,
          919,
          2599,
          1213,
          1584,
          2799,
          709,
          1449.9,
          1191.8,
          364.9,
          1064,
          919,
          1135,
          1196,
          3147.37,
          1229,
          419,
          535,
          539,
          1486.77,
          498,
          955,
          745,
          1258,
          412,
          1867.85,
          817.95,
          1034,
          349,
          699,
          1294,
          1135,
          495,
          2299,
          1299,
          997.9,
          419,
          2051,
          699,
          1499,
          2813.75,
          612.61,
          545.67,
          569,
          318,
          375,
          699,
          1907.99,
          2590,
          973,
          269,
          1749,
          669,
          1877,
          689,
          819,
          399,
          429,
          621.45,
          450,
          795,
          999,
          1855,
          1191,
          655.01,
          1249,
          1089,
          726,
          298,
          1426.66,
          857.07,
          1179,
          298,
          265,
          1200,
          1686.64,
          836.6,
          1499,
          3659.4,
          1348.48,
          489.9,
          719,
          649,
          589.52,
          489,
          1935,
          649,
          650,
          559,
          960,
          779,
          2419,
          659,
          2094.48,
          410.8,
          1207,
          665,
          1535,
          999,
          3299,
          330,
          1649,
          539,
          1126.71,
          4389,
          475,
          1900,
          579,
          1096,
          849.9,
          1199,
          1099,
          1561,
          2868.99,
          599,
          1048,
          1859,
          1559,
          1129,
          849,
          655,
          470.34,
          1099,
          1599,
          298,
          1181.27,
          1799,
          1020,
          1099,
          1244,
          839,
          2370,
          636,
          2899,
          581.9,
          3588.8,
          2350,
          1764,
          329,
          2299,
          1891,
          1089,
          999,
          2299,
          985,
          1339,
          202.9,
          1970,
          959,
          null,
          2330,
          299,
          810,
          1349,
          739,
          2064.9,
          1099,
          1499,
          1749,
          744,
          1389,
          780,
          629,
          1679,
          609,
          1749,
          2415,
          1499,
          961,
          789.81,
          1859,
          1799,
          385,
          2505.02,
          755,
          489.9,
          1090,
          2499,
          1199,
          1875,
          499,
          1358,
          585,
          355,
          619,
          5499,
          2099,
          519,
          1186,
          1650,
          2774.63,
          2419,
          669,
          325,
          590,
          1799,
          3072.89,
          910,
          713.99,
          1870,
          739,
          615,
          1026,
          2277,
          1468,
          299,
          1899,
          865,
          1903,
          787,
          945,
          449,
          2559,
          649,
          469,
          850.66,
          1349,
          1285,
          1017,
          2240,
          910,
          1095,
          1950,
          902,
          1778,
          1055,
          479,
          1388,
          735,
          1849,
          1690,
          398.99,
          935,
          912.5,
          839,
          1700,
          684.8,
          348,
          669,
          369,
          1799,
          455.7,
          1369.9,
          297,
          379,
          1265,
          1399,
          1699,
          1799,
          2649,
          1475,
          929,
          900,
          614,
          935,
          2013.1,
          1279,
          1649,
          2049,
          1962.99,
          2099,
          1483,
          359,
          789,
          1899,
          1205,
          3100,
          789,
          1018.99,
          499,
          881,
          960,
          1599,
          1349,
          1119.91,
          684.99,
          1296.99,
          1149,
          1975,
          1825,
          729.9,
          1650,
          1165,
          708.06,
          1149,
          309,
          1579,
          288.9,
          1799,
          1105,
          1669,
          558.6,
          1199,
          1639,
          2758,
          1399,
          530,
          619,
          1119,
          1299,
          999,
          1472.2,
          685,
          659,
          349,
          2249,
          1775,
          1460,
          1159,
          1488.99,
          3154,
          1899,
          775,
          1268,
          389,
          1535,
          1760,
          1009,
          1790,
          846.5,
          465.62,
          825,
          685,
          3149,
          695,
          1899,
          1962.98,
          2800,
          1180,
          2049.9,
          979,
          1002,
          1799,
          579,
          1749,
          1299,
          1195,
          549,
          649,
          915,
          599,
          806,
          1189,
          749,
          1119,
          1908,
          499,
          270.62,
          1349,
          889,
          1150,
          1349,
          380,
          1799,
          2089,
          1260,
          1189,
          547,
          779,
          1195,
          1099.99,
          1205,
          1449,
          1049.26,
          684,
          949,
          1539,
          1590,
          1887.21,
          800,
          1210,
          769.99,
          2968,
          1490,
          2229,
          795.99,
          1590,
          1149,
          1185.43,
          1046.44,
          1559,
          1189,
          1060,
          1624,
          1080,
          973,
          409,
          1191.8,
          1195,
          1228.99,
          1349,
          742,
          1725,
          1062.95,
          1010.51,
          847,
          210.8,
          1425,
          1049.6,
          1000,
          2103.34,
          1469,
          1545.64,
          2289.99,
          287.9,
          2620,
          979,
          1094,
          979,
          2254,
          705.15,
          499,
          449,
          1299,
          1819,
          1070,
          998,
          559,
          989.99,
          1929,
          1458,
          3975,
          798.01,
          1329,
          null,
          481.98,
          1199,
          1199,
          1090,
          1713.49,
          659,
          977,
          2499,
          540,
          940,
          1399,
          3240,
          646.27,
          2049,
          750,
          1030.99,
          1495,
          1199,
          615,
          387,
          393.49,
          345.99,
          1599,
          818.35,
          1599,
          799,
          638.8,
          1599,
          500,
          2299,
          1135.15,
          1166.97,
          209,
          2899,
          1199,
          1413.1,
          1511.19,
          867,
          398,
          1339,
          1699,
          769.15,
          429,
          1969,
          549,
          1379,
          2749.99,
          1029,
          2226,
          1312.49,
          196,
          1690,
          1513,
          523.63,
          435,
          1669,
          479,
          1895,
          989,
          1129,
          629,
          2050.38,
          278,
          752,
          616,
          1099,
          3949.4,
          784,
          2399,
          2171.72,
          2440,
          1142.8,
          1629,
          2229,
          1799,
          1899,
          2296.95,
          1009.9,
          1579,
          2339,
          339,
          297,
          599,
          1199,
          2250.68,
          478.89,
          1492.8,
          2299,
          788.49,
          2041,
          1499,
          1769,
          899,
          459,
          476.99,
          1498,
          1390,
          468,
          249,
          839,
          679,
          1159,
          369,
          398,
          709,
          769,
          825,
          1305,
          2153.37,
          650,
          1637,
          831,
          895.01,
          333,
          799,
          909,
          1179,
          691,
          1099,
          2599,
          819,
          659,
          485,
          null,
          1199,
          1327,
          368,
          2150,
          272,
          2048.9,
          499,
          629,
          1285,
          2680,
          1169,
          889,
          579,
          299,
          629,
          2449,
          null,
          1749,
          1948.99,
          999,
          1949,
          174,
          598,
          539,
          1272,
          1149,
          1529,
          1476.11,
          529,
          1713.37,
          509,
          309,
          1477,
          521.86,
          1029,
          1149,
          1650,
          3499,
          469.01,
          1598,
          959,
          478,
          2198.19,
          737,
          1169,
          1499,
          597.57,
          1280,
          361.8,
          1799,
          1099.99,
          1600,
          875,
          2325,
          573,
          1813,
          324,
          399,
          569,
          1072,
          443.99,
          339,
          1900,
          490,
          895,
          1229,
          833.01,
          729,
          459,
          289,
          379,
          899,
          549.99,
          805.99,
          209,
          720.32,
          638,
          1499,
          229,
          764,
          369,
          729,
          459,
          289,
          379,
          899,
          549.99,
          805.99,
          209,
          720.32,
          638,
          1499,
          229,
          764,
          369,
          729,
          459,
          289,
          379,
          899,
          549.99,
          805.99,
          209,
          720.32,
          638,
          1499,
          229,
          764,
          369
         ]
        }
       ],
       "layout": {
        "template": {
         "data": {
          "bar": [
           {
            "error_x": {
             "color": "#2a3f5f"
            },
            "error_y": {
             "color": "#2a3f5f"
            },
            "marker": {
             "line": {
              "color": "#E5ECF6",
              "width": 0.5
             }
            },
            "type": "bar"
           }
          ],
          "barpolar": [
           {
            "marker": {
             "line": {
              "color": "#E5ECF6",
              "width": 0.5
             }
            },
            "type": "barpolar"
           }
          ],
          "carpet": [
           {
            "aaxis": {
             "endlinecolor": "#2a3f5f",
             "gridcolor": "white",
             "linecolor": "white",
             "minorgridcolor": "white",
             "startlinecolor": "#2a3f5f"
            },
            "baxis": {
             "endlinecolor": "#2a3f5f",
             "gridcolor": "white",
             "linecolor": "white",
             "minorgridcolor": "white",
             "startlinecolor": "#2a3f5f"
            },
            "type": "carpet"
           }
          ],
          "choropleth": [
           {
            "colorbar": {
             "outlinewidth": 0,
             "ticks": ""
            },
            "type": "choropleth"
           }
          ],
          "contour": [
           {
            "colorbar": {
             "outlinewidth": 0,
             "ticks": ""
            },
            "colorscale": [
             [
              0,
              "#0d0887"
             ],
             [
              0.1111111111111111,
              "#46039f"
             ],
             [
              0.2222222222222222,
              "#7201a8"
             ],
             [
              0.3333333333333333,
              "#9c179e"
             ],
             [
              0.4444444444444444,
              "#bd3786"
             ],
             [
              0.5555555555555556,
              "#d8576b"
             ],
             [
              0.6666666666666666,
              "#ed7953"
             ],
             [
              0.7777777777777778,
              "#fb9f3a"
             ],
             [
              0.8888888888888888,
              "#fdca26"
             ],
             [
              1,
              "#f0f921"
             ]
            ],
            "type": "contour"
           }
          ],
          "contourcarpet": [
           {
            "colorbar": {
             "outlinewidth": 0,
             "ticks": ""
            },
            "type": "contourcarpet"
           }
          ],
          "heatmap": [
           {
            "colorbar": {
             "outlinewidth": 0,
             "ticks": ""
            },
            "colorscale": [
             [
              0,
              "#0d0887"
             ],
             [
              0.1111111111111111,
              "#46039f"
             ],
             [
              0.2222222222222222,
              "#7201a8"
             ],
             [
              0.3333333333333333,
              "#9c179e"
             ],
             [
              0.4444444444444444,
              "#bd3786"
             ],
             [
              0.5555555555555556,
              "#d8576b"
             ],
             [
              0.6666666666666666,
              "#ed7953"
             ],
             [
              0.7777777777777778,
              "#fb9f3a"
             ],
             [
              0.8888888888888888,
              "#fdca26"
             ],
             [
              1,
              "#f0f921"
             ]
            ],
            "type": "heatmap"
           }
          ],
          "heatmapgl": [
           {
            "colorbar": {
             "outlinewidth": 0,
             "ticks": ""
            },
            "colorscale": [
             [
              0,
              "#0d0887"
             ],
             [
              0.1111111111111111,
              "#46039f"
             ],
             [
              0.2222222222222222,
              "#7201a8"
             ],
             [
              0.3333333333333333,
              "#9c179e"
             ],
             [
              0.4444444444444444,
              "#bd3786"
             ],
             [
              0.5555555555555556,
              "#d8576b"
             ],
             [
              0.6666666666666666,
              "#ed7953"
             ],
             [
              0.7777777777777778,
              "#fb9f3a"
             ],
             [
              0.8888888888888888,
              "#fdca26"
             ],
             [
              1,
              "#f0f921"
             ]
            ],
            "type": "heatmapgl"
           }
          ],
          "histogram": [
           {
            "marker": {
             "colorbar": {
              "outlinewidth": 0,
              "ticks": ""
             }
            },
            "type": "histogram"
           }
          ],
          "histogram2d": [
           {
            "colorbar": {
             "outlinewidth": 0,
             "ticks": ""
            },
            "colorscale": [
             [
              0,
              "#0d0887"
             ],
             [
              0.1111111111111111,
              "#46039f"
             ],
             [
              0.2222222222222222,
              "#7201a8"
             ],
             [
              0.3333333333333333,
              "#9c179e"
             ],
             [
              0.4444444444444444,
              "#bd3786"
             ],
             [
              0.5555555555555556,
              "#d8576b"
             ],
             [
              0.6666666666666666,
              "#ed7953"
             ],
             [
              0.7777777777777778,
              "#fb9f3a"
             ],
             [
              0.8888888888888888,
              "#fdca26"
             ],
             [
              1,
              "#f0f921"
             ]
            ],
            "type": "histogram2d"
           }
          ],
          "histogram2dcontour": [
           {
            "colorbar": {
             "outlinewidth": 0,
             "ticks": ""
            },
            "colorscale": [
             [
              0,
              "#0d0887"
             ],
             [
              0.1111111111111111,
              "#46039f"
             ],
             [
              0.2222222222222222,
              "#7201a8"
             ],
             [
              0.3333333333333333,
              "#9c179e"
             ],
             [
              0.4444444444444444,
              "#bd3786"
             ],
             [
              0.5555555555555556,
              "#d8576b"
             ],
             [
              0.6666666666666666,
              "#ed7953"
             ],
             [
              0.7777777777777778,
              "#fb9f3a"
             ],
             [
              0.8888888888888888,
              "#fdca26"
             ],
             [
              1,
              "#f0f921"
             ]
            ],
            "type": "histogram2dcontour"
           }
          ],
          "mesh3d": [
           {
            "colorbar": {
             "outlinewidth": 0,
             "ticks": ""
            },
            "type": "mesh3d"
           }
          ],
          "parcoords": [
           {
            "line": {
             "colorbar": {
              "outlinewidth": 0,
              "ticks": ""
             }
            },
            "type": "parcoords"
           }
          ],
          "pie": [
           {
            "automargin": true,
            "type": "pie"
           }
          ],
          "scatter": [
           {
            "marker": {
             "colorbar": {
              "outlinewidth": 0,
              "ticks": ""
             }
            },
            "type": "scatter"
           }
          ],
          "scatter3d": [
           {
            "line": {
             "colorbar": {
              "outlinewidth": 0,
              "ticks": ""
             }
            },
            "marker": {
             "colorbar": {
              "outlinewidth": 0,
              "ticks": ""
             }
            },
            "type": "scatter3d"
           }
          ],
          "scattercarpet": [
           {
            "marker": {
             "colorbar": {
              "outlinewidth": 0,
              "ticks": ""
             }
            },
            "type": "scattercarpet"
           }
          ],
          "scattergeo": [
           {
            "marker": {
             "colorbar": {
              "outlinewidth": 0,
              "ticks": ""
             }
            },
            "type": "scattergeo"
           }
          ],
          "scattergl": [
           {
            "marker": {
             "colorbar": {
              "outlinewidth": 0,
              "ticks": ""
             }
            },
            "type": "scattergl"
           }
          ],
          "scattermapbox": [
           {
            "marker": {
             "colorbar": {
              "outlinewidth": 0,
              "ticks": ""
             }
            },
            "type": "scattermapbox"
           }
          ],
          "scatterpolar": [
           {
            "marker": {
             "colorbar": {
              "outlinewidth": 0,
              "ticks": ""
             }
            },
            "type": "scatterpolar"
           }
          ],
          "scatterpolargl": [
           {
            "marker": {
             "colorbar": {
              "outlinewidth": 0,
              "ticks": ""
             }
            },
            "type": "scatterpolargl"
           }
          ],
          "scatterternary": [
           {
            "marker": {
             "colorbar": {
              "outlinewidth": 0,
              "ticks": ""
             }
            },
            "type": "scatterternary"
           }
          ],
          "surface": [
           {
            "colorbar": {
             "outlinewidth": 0,
             "ticks": ""
            },
            "colorscale": [
             [
              0,
              "#0d0887"
             ],
             [
              0.1111111111111111,
              "#46039f"
             ],
             [
              0.2222222222222222,
              "#7201a8"
             ],
             [
              0.3333333333333333,
              "#9c179e"
             ],
             [
              0.4444444444444444,
              "#bd3786"
             ],
             [
              0.5555555555555556,
              "#d8576b"
             ],
             [
              0.6666666666666666,
              "#ed7953"
             ],
             [
              0.7777777777777778,
              "#fb9f3a"
             ],
             [
              0.8888888888888888,
              "#fdca26"
             ],
             [
              1,
              "#f0f921"
             ]
            ],
            "type": "surface"
           }
          ],
          "table": [
           {
            "cells": {
             "fill": {
              "color": "#EBF0F8"
             },
             "line": {
              "color": "white"
             }
            },
            "header": {
             "fill": {
              "color": "#C8D4E3"
             },
             "line": {
              "color": "white"
             }
            },
            "type": "table"
           }
          ]
         },
         "layout": {
          "annotationdefaults": {
           "arrowcolor": "#2a3f5f",
           "arrowhead": 0,
           "arrowwidth": 1
          },
          "coloraxis": {
           "colorbar": {
            "outlinewidth": 0,
            "ticks": ""
           }
          },
          "colorscale": {
           "diverging": [
            [
             0,
             "#8e0152"
            ],
            [
             0.1,
             "#c51b7d"
            ],
            [
             0.2,
             "#de77ae"
            ],
            [
             0.3,
             "#f1b6da"
            ],
            [
             0.4,
             "#fde0ef"
            ],
            [
             0.5,
             "#f7f7f7"
            ],
            [
             0.6,
             "#e6f5d0"
            ],
            [
             0.7,
             "#b8e186"
            ],
            [
             0.8,
             "#7fbc41"
            ],
            [
             0.9,
             "#4d9221"
            ],
            [
             1,
             "#276419"
            ]
           ],
           "sequential": [
            [
             0,
             "#0d0887"
            ],
            [
             0.1111111111111111,
             "#46039f"
            ],
            [
             0.2222222222222222,
             "#7201a8"
            ],
            [
             0.3333333333333333,
             "#9c179e"
            ],
            [
             0.4444444444444444,
             "#bd3786"
            ],
            [
             0.5555555555555556,
             "#d8576b"
            ],
            [
             0.6666666666666666,
             "#ed7953"
            ],
            [
             0.7777777777777778,
             "#fb9f3a"
            ],
            [
             0.8888888888888888,
             "#fdca26"
            ],
            [
             1,
             "#f0f921"
            ]
           ],
           "sequentialminus": [
            [
             0,
             "#0d0887"
            ],
            [
             0.1111111111111111,
             "#46039f"
            ],
            [
             0.2222222222222222,
             "#7201a8"
            ],
            [
             0.3333333333333333,
             "#9c179e"
            ],
            [
             0.4444444444444444,
             "#bd3786"
            ],
            [
             0.5555555555555556,
             "#d8576b"
            ],
            [
             0.6666666666666666,
             "#ed7953"
            ],
            [
             0.7777777777777778,
             "#fb9f3a"
            ],
            [
             0.8888888888888888,
             "#fdca26"
            ],
            [
             1,
             "#f0f921"
            ]
           ]
          },
          "colorway": [
           "#636efa",
           "#EF553B",
           "#00cc96",
           "#ab63fa",
           "#FFA15A",
           "#19d3f3",
           "#FF6692",
           "#B6E880",
           "#FF97FF",
           "#FECB52"
          ],
          "font": {
           "color": "#2a3f5f"
          },
          "geo": {
           "bgcolor": "white",
           "lakecolor": "white",
           "landcolor": "#E5ECF6",
           "showlakes": true,
           "showland": true,
           "subunitcolor": "white"
          },
          "hoverlabel": {
           "align": "left"
          },
          "hovermode": "closest",
          "mapbox": {
           "style": "light"
          },
          "paper_bgcolor": "white",
          "plot_bgcolor": "#E5ECF6",
          "polar": {
           "angularaxis": {
            "gridcolor": "white",
            "linecolor": "white",
            "ticks": ""
           },
           "bgcolor": "#E5ECF6",
           "radialaxis": {
            "gridcolor": "white",
            "linecolor": "white",
            "ticks": ""
           }
          },
          "scene": {
           "xaxis": {
            "backgroundcolor": "#E5ECF6",
            "gridcolor": "white",
            "gridwidth": 2,
            "linecolor": "white",
            "showbackground": true,
            "ticks": "",
            "zerolinecolor": "white"
           },
           "yaxis": {
            "backgroundcolor": "#E5ECF6",
            "gridcolor": "white",
            "gridwidth": 2,
            "linecolor": "white",
            "showbackground": true,
            "ticks": "",
            "zerolinecolor": "white"
           },
           "zaxis": {
            "backgroundcolor": "#E5ECF6",
            "gridcolor": "white",
            "gridwidth": 2,
            "linecolor": "white",
            "showbackground": true,
            "ticks": "",
            "zerolinecolor": "white"
           }
          },
          "shapedefaults": {
           "line": {
            "color": "#2a3f5f"
           }
          },
          "ternary": {
           "aaxis": {
            "gridcolor": "white",
            "linecolor": "white",
            "ticks": ""
           },
           "baxis": {
            "gridcolor": "white",
            "linecolor": "white",
            "ticks": ""
           },
           "bgcolor": "#E5ECF6",
           "caxis": {
            "gridcolor": "white",
            "linecolor": "white",
            "ticks": ""
           }
          },
          "title": {
           "x": 0.05
          },
          "xaxis": {
           "automargin": true,
           "gridcolor": "white",
           "linecolor": "white",
           "ticks": "",
           "title": {
            "standoff": 15
           },
           "zerolinecolor": "white",
           "zerolinewidth": 2
          },
          "yaxis": {
           "automargin": true,
           "gridcolor": "white",
           "linecolor": "white",
           "ticks": "",
           "title": {
            "standoff": 15
           },
           "zerolinecolor": "white",
           "zerolinewidth": 2
          }
         }
        }
       }
      },
      "text/html": [
       "<div>\n",
       "        \n",
       "        \n",
       "            <div id=\"464d06df-aa06-41a6-96a2-4fa0f743107b\" class=\"plotly-graph-div\" style=\"height:525px; width:100%;\"></div>\n",
       "            <script type=\"text/javascript\">\n",
       "                require([\"plotly\"], function(Plotly) {\n",
       "                    window.PLOTLYENV=window.PLOTLYENV || {};\n",
       "                    \n",
       "                if (document.getElementById(\"464d06df-aa06-41a6-96a2-4fa0f743107b\")) {\n",
       "                    Plotly.newPlot(\n",
       "                        '464d06df-aa06-41a6-96a2-4fa0f743107b',\n",
       "                        [{\"type\": \"histogram\", \"x\": [1339.69, 898.94, 575.0, 2537.45, 1803.6, 400.0, 2139.97, 1158.7, 1495.0, 770.0, 393.9, 344.99, 2439.97, 498.9, null, 1518.55, 745.0, 2858.0, 499.0, 979.0, 191.9, 999.0, 258.0, 819.0, 659.0, 418.64, 1099.0, 800.0, 1298.0, 896.0, null, 199.0, 439.0, 1869.0, 998.0, 249.0, 367.0, 979.0, 488.69, 879.0, 389.0, 1499.0, 522.99, 682.0, 999.0, 1419.0, 369.0, 1299.0, 639.0, 466.0, 319.0, 841.0, 398.49, 1103.0, 384.0, 767.8, 439.0, 586.19, 2449.0, 415.0, 1299.0, 879.0, 599.0, 941.0, 690.0, 1983.0, 438.69, 229.0, 549.0, 949.0, 1089.0, 955.0, 870.0, 1095.0, 389.0, 949.0, 519.0, 855.0, 530.0, 977.0, 1096.16, null, 860.0, 399.0, 395.0, 1349.0, 699.0, 598.99, 1449.0, 1649.0, 699.0, 689.0, 1197.0, 1195.0, 1049.0, 847.0, 599.9, 485.0, 577.0, 1249.0, 719.0, 349.0, 647.0, 1119.0, 1340.0, 659.0, 414.9, 1193.0, 1299.0, 1480.0, 1262.0, 1379.0, 1399.0, 722.0, 1629.0, 1398.99, 1084.0, 1130.33, 564.0, 1118.0, 479.0, 2241.5, 629.0, 1271.0, 451.0, 259.0, 812.0, 277.99, 1396.0, 928.0, 638.99, 449.0, 884.0, 572.0, 598.0, 988.0, 252.36, 938.0, 499.0, 699.0, 655.0, 1116.02, 869.0, 602.0, 369.0, 1099.0, 2014.0, 344.0, 2029.0, 447.0, 1249.26, 899.0, 498.0, 1890.0, 1082.0, 619.0, 629.0, 1315.0, 1049.0, 447.0, 403.0, 805.0, 728.0, 1079.0, 348.0, 1799.0, 363.51, 1060.49, 854.0, 754.0, 1349.0, 699.0, 309.0, 489.0, 923.0, 459.0, 449.0, 2799.0, 813.0, 1499.0, 1049.0, 1399.0, 1849.0, 793.0, 1199.0, 1549.0, 2397.0, 779.0, 989.0, 1085.0, 2824.0, 260.0, 999.9, 698.0, 839.0, 914.0, 6099.0, 959.0, 1379.0, 1045.0, 1845.0, 493.0, 742.0, 1749.0, 3055.0, 1398.0, 439.0, 1949.0, 1449.0, 597.0, 779.0, 1407.0, 349.0, 549.0, 1499.0, 931.88, 589.0, 1031.0, 1149.0, 1279.0, 677.35, 899.0, 1363.0, 794.0, 2456.34, 832.0, 859.01, 769.0, 891.0, 1269.0, 398.99, 330.0, 1499.0, 859.0, 689.0, 899.0, 390.0, 575.0, 3890.0, 846.0, 589.0, 1145.0, 889.0, 879.0, 1079.0, 985.0, 559.0, 2999.0, 675.0, 2040.0, 819.0, 1799.0, 469.0, 1849.0, 702.0, 949.0, 445.9, 1059.0, 2499.0, 1699.0, 1142.0, 444.0, 722.0, 657.0, 565.0, 799.0, 1499.0, 467.0, 1018.0, 880.0, 1958.9, 1549.0, 735.07, 2499.0, 812.0, 713.07, 1099.0, 745.0, 489.0, 849.0, 859.0, 428.0, 829.0, 579.0, 951.0, 659.0, 1097.0, 977.0, 1179.0, 659.01, 199.0, 1187.0, 489.0, 1829.0, 739.0, 1299.0, 979.0, 2884.86, 499.0, 1468.0, 509.0, 2122.0, 649.0, 549.0, 1265.0, 359.99, 1975.0, 1043.0, 819.0, 469.0, 999.0, 2499.0, 2099.0, 469.0, 275.0, 844.0, 2449.0, 459.9, 980.0, 485.0, 1292.0, 589.0, 1094.0, 902.0, 659.0, 292.0, 549.0, 1049.9, 1335.0, 2639.0, 1199.0, 943.0, 1334.0, 449.0, 999.0, 1268.0, 1049.0, 1144.0, 274.99, 1142.75, 274.9, 899.0, 716.0, 2099.0, 1579.0, 1129.0, 279.0, 1607.96, 375.0, 663.0, 2027.42, 1304.0, 1409.0, 1738.27, 1403.0, 970.9, 321.99, 999.0, 557.37, 1427.0, 439.0, 945.0, 719.0, 639.0, 499.0, 389.0, 1085.0, 809.0, 899.0, 1750.0, 1099.0, 426.0, 2199.0, 489.0, 869.01, 488.99, 553.0, 309.0, 286.0, 846.0, 1191.0, 403.5, 1655.0, 1099.0, 1748.9, 2282.0, 549.0, 1369.0, 2135.0, 2509.0, 1039.0, 1591.0, 693.99, 1349.0, 778.87, 499.0, 1229.56, 938.0, 2712.0, 2625.0, 306.0, 1529.0, 1144.5, 879.0, 2249.0, 1873.0, 1747.0, 1680.0, 409.0, 304.45, 1925.0, 1943.0, 469.0, 789.01, 928.0, 598.9, 689.0, 1500.0, 539.95, 1215.38, 1899.0, 449.0, 1427.0, 597.0, 2799.0, 1159.0, 1142.4, 1099.0, 1999.0, 299.0, 269.0, 1010.0, 599.0, 2445.0, 2449.0, 1695.0, 347.0, 2199.0, 2382.0, 559.0, 519.0, 749.0, 1429.0, 349.0, 1099.0, 1179.0, 441.8, 1993.0, 1027.74, 2589.0, 589.0, 1975.0, 1534.0, 1345.0, 979.0, 479.0, 2046.0, 989.0, 1799.0, 639.9, 544.0, 435.0, 749.0, 799.0, 2090.0, 304.0, 469.0, 759.0, 1699.0, 1858.0, 1999.0, 1154.0, 1275.0, 1841.85, 1299.0, 740.0, 2408.0, 1364.0, 675.0, 1672.0, 1262.0, 586.6, 726.0, null, 565.0, 1049.0, 2338.0, 1899.0, 1798.0, 1950.0, 1011.99, 2799.0, 1350.0, 579.0, 1269.0, 1099.0, 898.9, 1749.0, 949.0, 911.0, 340.0, 618.99, 1599.0, 299.0, 265.0, 949.0, 1224.0, 613.0, 1323.0, 1149.0, 899.0, 639.0, 836.0, 1219.24, 1399.95, 245.0, 521.47, 2968.0, 889.0, 1504.0, 1399.0, 1399.0, 1279.73, 689.0, 889.0, 1340.0, 799.0, 459.0, 585.0, 1377.0, 3012.77, 860.0, 1299.0, 369.0, 1649.0, 1369.0, 797.41, 398.99, 1799.0, 859.0, 1399.0, 735.87, 1145.0, 798.0, 349.0, 705.5, 785.0, 462.35, 397.0, 1729.0, 499.0, 1116.99, 2699.0, 544.15, 1280.0, 224.0, 255.0, 949.0, 568.9, 617.9, 349.0, 630.0, 1965.0, 2999.0, 839.0, 1599.0, 959.0, 739.0, 344.0, 990.0, 1860.99, 389.0, 649.0, 830.0, 685.0, 249.0, 1865.0, 2663.0, 2729.0, 749.01, 389.0, 1008.52, 719.0, 1537.39, 295.0, 2349.0, 1498.0, 1673.0, 609.0, 1770.0, 739.0, 949.0, 603.0, 1699.0, 529.0, 459.0, 2025.0, 1474.0, 1670.0, 1763.0, 1219.0, 668.48, 329.0, 2199.0, 465.0, 2299.0, 1399.0, 564.0, 1299.0, 349.0, 4899.0, 879.01, 443.9, 359.0, 869.0, 1168.0, 569.0, 1389.0, 2267.86, 379.0, 1124.0, 1465.0, 776.0, 799.0, 932.0, 899.0, 239.0, 468.0, 639.01, 1820.0, 1900.0, 1479.0, 829.0, 579.0, 399.0, 906.62, 1869.0, 249.0, 1757.42, 2399.0, 1109.0, 520.9, 2450.0, 1169.0, 450.0, 274.0, 919.0, 2599.0, 1213.0, 1584.0, 2799.0, 709.0, 1449.9, 1191.8, 364.9, 1064.0, 919.0, 1135.0, 1196.0, 3147.37, 1229.0, 419.0, 535.0, 539.0, 1486.77, 498.0, 955.0, 745.0, 1258.0, 412.0, 1867.85, 817.95, 1034.0, 349.0, 699.0, 1294.0, 1135.0, 495.0, 2299.0, 1299.0, 997.9, 419.0, 2051.0, 699.0, 1499.0, 2813.75, 612.61, 545.67, 569.0, 318.0, 375.0, 699.0, 1907.99, 2590.0, 973.0, 269.0, 1749.0, 669.0, 1877.0, 689.0, 819.0, 399.0, 429.0, 621.45, 450.0, 795.0, 999.0, 1855.0, 1191.0, 655.01, 1249.0, 1089.0, 726.0, 298.0, 1426.66, 857.07, 1179.0, 298.0, 265.0, 1200.0, 1686.64, 836.6, 1499.0, 3659.4, 1348.48, 489.9, 719.0, 649.0, 589.52, 489.0, 1935.0, 649.0, 650.0, 559.0, 960.0, 779.0, 2419.0, 659.0, 2094.48, 410.8, 1207.0, 665.0, 1535.0, 999.0, 3299.0, 330.0, 1649.0, 539.0, 1126.71, 4389.0, 475.0, 1900.0, 579.0, 1096.0, 849.9, 1199.0, 1099.0, 1561.0, 2868.99, 599.0, 1048.0, 1859.0, 1559.0, 1129.0, 849.0, 655.0, 470.34, 1099.0, 1599.0, 298.0, 1181.27, 1799.0, 1020.0, 1099.0, 1244.0, 839.0, 2370.0, 636.0, 2899.0, 581.9, 3588.8, 2350.0, 1764.0, 329.0, 2299.0, 1891.0, 1089.0, 999.0, 2299.0, 985.0, 1339.0, 202.9, 1970.0, 959.0, null, 2330.0, 299.0, 810.0, 1349.0, 739.0, 2064.9, 1099.0, 1499.0, 1749.0, 744.0, 1389.0, 780.0, 629.0, 1679.0, 609.0, 1749.0, 2415.0, 1499.0, 961.0, 789.81, 1859.0, 1799.0, 385.0, 2505.02, 755.0, 489.9, 1090.0, 2499.0, 1199.0, 1875.0, 499.0, 1358.0, 585.0, 355.0, 619.0, 5499.0, 2099.0, 519.0, 1186.0, 1650.0, 2774.63, 2419.0, 669.0, 325.0, 590.0, 1799.0, 3072.89, 910.0, 713.99, 1870.0, 739.0, 615.0, 1026.0, 2277.0, 1468.0, 299.0, 1899.0, 865.0, 1903.0, 787.0, 945.0, 449.0, 2559.0, 649.0, 469.0, 850.66, 1349.0, 1285.0, 1017.0, 2240.0, 910.0, 1095.0, 1950.0, 902.0, 1778.0, 1055.0, 479.0, 1388.0, 735.0, 1849.0, 1690.0, 398.99, 935.0, 912.5, 839.0, 1700.0, 684.8, 348.0, 669.0, 369.0, 1799.0, 455.7, 1369.9, 297.0, 379.0, 1265.0, 1399.0, 1699.0, 1799.0, 2649.0, 1475.0, 929.0, 900.0, 614.0, 935.0, 2013.1, 1279.0, 1649.0, 2049.0, 1962.99, 2099.0, 1483.0, 359.0, 789.0, 1899.0, 1205.0, 3100.0, 789.0, 1018.99, 499.0, 881.0, 960.0, 1599.0, 1349.0, 1119.91, 684.99, 1296.99, 1149.0, 1975.0, 1825.0, 729.9, 1650.0, 1165.0, 708.06, 1149.0, 309.0, 1579.0, 288.9, 1799.0, 1105.0, 1669.0, 558.6, 1199.0, 1639.0, 2758.0, 1399.0, 530.0, 619.0, 1119.0, 1299.0, 999.0, 1472.2, 685.0, 659.0, 349.0, 2249.0, 1775.0, 1460.0, 1159.0, 1488.99, 3154.0, 1899.0, 775.0, 1268.0, 389.0, 1535.0, 1760.0, 1009.0, 1790.0, 846.5, 465.62, 825.0, 685.0, 3149.0, 695.0, 1899.0, 1962.98, 2800.0, 1180.0, 2049.9, 979.0, 1002.0, 1799.0, 579.0, 1749.0, 1299.0, 1195.0, 549.0, 649.0, 915.0, 599.0, 806.0, 1189.0, 749.0, 1119.0, 1908.0, 499.0, 270.62, 1349.0, 889.0, 1150.0, 1349.0, 380.0, 1799.0, 2089.0, 1260.0, 1189.0, 547.0, 779.0, 1195.0, 1099.99, 1205.0, 1449.0, 1049.26, 684.0, 949.0, 1539.0, 1590.0, 1887.21, 800.0, 1210.0, 769.99, 2968.0, 1490.0, 2229.0, 795.99, 1590.0, 1149.0, 1185.43, 1046.44, 1559.0, 1189.0, 1060.0, 1624.0, 1080.0, 973.0, 409.0, 1191.8, 1195.0, 1228.99, 1349.0, 742.0, 1725.0, 1062.95, 1010.51, 847.0, 210.8, 1425.0, 1049.6, 1000.0, 2103.34, 1469.0, 1545.64, 2289.99, 287.9, 2620.0, 979.0, 1094.0, 979.0, 2254.0, 705.15, 499.0, 449.0, 1299.0, 1819.0, 1070.0, 998.0, 559.0, 989.99, 1929.0, 1458.0, 3975.0, 798.01, 1329.0, null, 481.98, 1199.0, 1199.0, 1090.0, 1713.49, 659.0, 977.0, 2499.0, 540.0, 940.0, 1399.0, 3240.0, 646.27, 2049.0, 750.0, 1030.99, 1495.0, 1199.0, 615.0, 387.0, 393.49, 345.99, 1599.0, 818.35, 1599.0, 799.0, 638.8, 1599.0, 500.0, 2299.0, 1135.15, 1166.97, 209.0, 2899.0, 1199.0, 1413.1, 1511.19, 867.0, 398.0, 1339.0, 1699.0, 769.15, 429.0, 1969.0, 549.0, 1379.0, 2749.99, 1029.0, 2226.0, 1312.49, 196.0, 1690.0, 1513.0, 523.63, 435.0, 1669.0, 479.0, 1895.0, 989.0, 1129.0, 629.0, 2050.38, 278.0, 752.0, 616.0, 1099.0, 3949.4, 784.0, 2399.0, 2171.72, 2440.0, 1142.8, 1629.0, 2229.0, 1799.0, 1899.0, 2296.95, 1009.9, 1579.0, 2339.0, 339.0, 297.0, 599.0, 1199.0, 2250.68, 478.89, 1492.8, 2299.0, 788.49, 2041.0, 1499.0, 1769.0, 899.0, 459.0, 476.99, 1498.0, 1390.0, 468.0, 249.0, 839.0, 679.0, 1159.0, 369.0, 398.0, 709.0, 769.0, 825.0, 1305.0, 2153.37, 650.0, 1637.0, 831.0, 895.01, 333.0, 799.0, 909.0, 1179.0, 691.0, 1099.0, 2599.0, 819.0, 659.0, 485.0, null, 1199.0, 1327.0, 368.0, 2150.0, 272.0, 2048.9, 499.0, 629.0, 1285.0, 2680.0, 1169.0, 889.0, 579.0, 299.0, 629.0, 2449.0, null, 1749.0, 1948.99, 999.0, 1949.0, 174.0, 598.0, 539.0, 1272.0, 1149.0, 1529.0, 1476.11, 529.0, 1713.37, 509.0, 309.0, 1477.0, 521.86, 1029.0, 1149.0, 1650.0, 3499.0, 469.01, 1598.0, 959.0, 478.0, 2198.19, 737.0, 1169.0, 1499.0, 597.57, 1280.0, 361.8, 1799.0, 1099.99, 1600.0, 875.0, 2325.0, 573.0, 1813.0, 324.0, 399.0, 569.0, 1072.0, 443.99, 339.0, 1900.0, 490.0, 895.0, 1229.0, 833.01, 729.0, 459.0, 289.0, 379.0, 899.0, 549.99, 805.99, 209.0, 720.32, 638.0, 1499.0, 229.0, 764.0, 369.0, 729.0, 459.0, 289.0, 379.0, 899.0, 549.99, 805.99, 209.0, 720.32, 638.0, 1499.0, 229.0, 764.0, 369.0, 729.0, 459.0, 289.0, 379.0, 899.0, 549.99, 805.99, 209.0, 720.32, 638.0, 1499.0, 229.0, 764.0, 369.0]}],\n",
       "                        {\"template\": {\"data\": {\"bar\": [{\"error_x\": {\"color\": \"#2a3f5f\"}, \"error_y\": {\"color\": \"#2a3f5f\"}, \"marker\": {\"line\": {\"color\": \"#E5ECF6\", \"width\": 0.5}}, \"type\": \"bar\"}], \"barpolar\": [{\"marker\": {\"line\": {\"color\": \"#E5ECF6\", \"width\": 0.5}}, \"type\": \"barpolar\"}], \"carpet\": [{\"aaxis\": {\"endlinecolor\": \"#2a3f5f\", \"gridcolor\": \"white\", \"linecolor\": \"white\", \"minorgridcolor\": \"white\", \"startlinecolor\": \"#2a3f5f\"}, \"baxis\": {\"endlinecolor\": \"#2a3f5f\", \"gridcolor\": \"white\", \"linecolor\": \"white\", \"minorgridcolor\": \"white\", \"startlinecolor\": \"#2a3f5f\"}, \"type\": \"carpet\"}], \"choropleth\": [{\"colorbar\": {\"outlinewidth\": 0, \"ticks\": \"\"}, \"type\": \"choropleth\"}], \"contour\": [{\"colorbar\": {\"outlinewidth\": 0, \"ticks\": \"\"}, \"colorscale\": [[0.0, \"#0d0887\"], [0.1111111111111111, \"#46039f\"], [0.2222222222222222, \"#7201a8\"], [0.3333333333333333, \"#9c179e\"], [0.4444444444444444, \"#bd3786\"], [0.5555555555555556, \"#d8576b\"], [0.6666666666666666, \"#ed7953\"], [0.7777777777777778, \"#fb9f3a\"], [0.8888888888888888, \"#fdca26\"], [1.0, \"#f0f921\"]], \"type\": \"contour\"}], \"contourcarpet\": [{\"colorbar\": {\"outlinewidth\": 0, \"ticks\": \"\"}, \"type\": \"contourcarpet\"}], \"heatmap\": [{\"colorbar\": {\"outlinewidth\": 0, \"ticks\": \"\"}, \"colorscale\": [[0.0, \"#0d0887\"], [0.1111111111111111, \"#46039f\"], [0.2222222222222222, \"#7201a8\"], [0.3333333333333333, \"#9c179e\"], [0.4444444444444444, \"#bd3786\"], [0.5555555555555556, \"#d8576b\"], [0.6666666666666666, \"#ed7953\"], [0.7777777777777778, \"#fb9f3a\"], [0.8888888888888888, \"#fdca26\"], [1.0, \"#f0f921\"]], \"type\": \"heatmap\"}], \"heatmapgl\": [{\"colorbar\": {\"outlinewidth\": 0, \"ticks\": \"\"}, \"colorscale\": [[0.0, \"#0d0887\"], [0.1111111111111111, \"#46039f\"], [0.2222222222222222, \"#7201a8\"], [0.3333333333333333, \"#9c179e\"], [0.4444444444444444, \"#bd3786\"], [0.5555555555555556, \"#d8576b\"], [0.6666666666666666, \"#ed7953\"], [0.7777777777777778, \"#fb9f3a\"], [0.8888888888888888, \"#fdca26\"], [1.0, \"#f0f921\"]], \"type\": \"heatmapgl\"}], \"histogram\": [{\"marker\": {\"colorbar\": {\"outlinewidth\": 0, \"ticks\": \"\"}}, \"type\": \"histogram\"}], \"histogram2d\": [{\"colorbar\": {\"outlinewidth\": 0, \"ticks\": \"\"}, \"colorscale\": [[0.0, \"#0d0887\"], [0.1111111111111111, \"#46039f\"], [0.2222222222222222, \"#7201a8\"], [0.3333333333333333, \"#9c179e\"], [0.4444444444444444, \"#bd3786\"], [0.5555555555555556, \"#d8576b\"], [0.6666666666666666, \"#ed7953\"], [0.7777777777777778, \"#fb9f3a\"], [0.8888888888888888, \"#fdca26\"], [1.0, \"#f0f921\"]], \"type\": \"histogram2d\"}], \"histogram2dcontour\": [{\"colorbar\": {\"outlinewidth\": 0, \"ticks\": \"\"}, \"colorscale\": [[0.0, \"#0d0887\"], [0.1111111111111111, \"#46039f\"], [0.2222222222222222, \"#7201a8\"], [0.3333333333333333, \"#9c179e\"], [0.4444444444444444, \"#bd3786\"], [0.5555555555555556, \"#d8576b\"], [0.6666666666666666, \"#ed7953\"], [0.7777777777777778, \"#fb9f3a\"], [0.8888888888888888, \"#fdca26\"], [1.0, \"#f0f921\"]], \"type\": \"histogram2dcontour\"}], \"mesh3d\": [{\"colorbar\": {\"outlinewidth\": 0, \"ticks\": \"\"}, \"type\": \"mesh3d\"}], \"parcoords\": [{\"line\": {\"colorbar\": {\"outlinewidth\": 0, \"ticks\": \"\"}}, \"type\": \"parcoords\"}], \"pie\": [{\"automargin\": true, \"type\": \"pie\"}], \"scatter\": [{\"marker\": {\"colorbar\": {\"outlinewidth\": 0, \"ticks\": \"\"}}, \"type\": \"scatter\"}], \"scatter3d\": [{\"line\": {\"colorbar\": {\"outlinewidth\": 0, \"ticks\": \"\"}}, \"marker\": {\"colorbar\": {\"outlinewidth\": 0, \"ticks\": \"\"}}, \"type\": \"scatter3d\"}], \"scattercarpet\": [{\"marker\": {\"colorbar\": {\"outlinewidth\": 0, \"ticks\": \"\"}}, \"type\": \"scattercarpet\"}], \"scattergeo\": [{\"marker\": {\"colorbar\": {\"outlinewidth\": 0, \"ticks\": \"\"}}, \"type\": \"scattergeo\"}], \"scattergl\": [{\"marker\": {\"colorbar\": {\"outlinewidth\": 0, \"ticks\": \"\"}}, \"type\": \"scattergl\"}], \"scattermapbox\": [{\"marker\": {\"colorbar\": {\"outlinewidth\": 0, \"ticks\": \"\"}}, \"type\": \"scattermapbox\"}], \"scatterpolar\": [{\"marker\": {\"colorbar\": {\"outlinewidth\": 0, \"ticks\": \"\"}}, \"type\": \"scatterpolar\"}], \"scatterpolargl\": [{\"marker\": {\"colorbar\": {\"outlinewidth\": 0, \"ticks\": \"\"}}, \"type\": \"scatterpolargl\"}], \"scatterternary\": [{\"marker\": {\"colorbar\": {\"outlinewidth\": 0, \"ticks\": \"\"}}, \"type\": \"scatterternary\"}], \"surface\": [{\"colorbar\": {\"outlinewidth\": 0, \"ticks\": \"\"}, \"colorscale\": [[0.0, \"#0d0887\"], [0.1111111111111111, \"#46039f\"], [0.2222222222222222, \"#7201a8\"], [0.3333333333333333, \"#9c179e\"], [0.4444444444444444, \"#bd3786\"], [0.5555555555555556, \"#d8576b\"], [0.6666666666666666, \"#ed7953\"], [0.7777777777777778, \"#fb9f3a\"], [0.8888888888888888, \"#fdca26\"], [1.0, \"#f0f921\"]], \"type\": \"surface\"}], \"table\": [{\"cells\": {\"fill\": {\"color\": \"#EBF0F8\"}, \"line\": {\"color\": \"white\"}}, \"header\": {\"fill\": {\"color\": \"#C8D4E3\"}, \"line\": {\"color\": \"white\"}}, \"type\": \"table\"}]}, \"layout\": {\"annotationdefaults\": {\"arrowcolor\": \"#2a3f5f\", \"arrowhead\": 0, \"arrowwidth\": 1}, \"coloraxis\": {\"colorbar\": {\"outlinewidth\": 0, \"ticks\": \"\"}}, \"colorscale\": {\"diverging\": [[0, \"#8e0152\"], [0.1, \"#c51b7d\"], [0.2, \"#de77ae\"], [0.3, \"#f1b6da\"], [0.4, \"#fde0ef\"], [0.5, \"#f7f7f7\"], [0.6, \"#e6f5d0\"], [0.7, \"#b8e186\"], [0.8, \"#7fbc41\"], [0.9, \"#4d9221\"], [1, \"#276419\"]], \"sequential\": [[0.0, \"#0d0887\"], [0.1111111111111111, \"#46039f\"], [0.2222222222222222, \"#7201a8\"], [0.3333333333333333, \"#9c179e\"], [0.4444444444444444, \"#bd3786\"], [0.5555555555555556, \"#d8576b\"], [0.6666666666666666, \"#ed7953\"], [0.7777777777777778, \"#fb9f3a\"], [0.8888888888888888, \"#fdca26\"], [1.0, \"#f0f921\"]], \"sequentialminus\": [[0.0, \"#0d0887\"], [0.1111111111111111, \"#46039f\"], [0.2222222222222222, \"#7201a8\"], [0.3333333333333333, \"#9c179e\"], [0.4444444444444444, \"#bd3786\"], [0.5555555555555556, \"#d8576b\"], [0.6666666666666666, \"#ed7953\"], [0.7777777777777778, \"#fb9f3a\"], [0.8888888888888888, \"#fdca26\"], [1.0, \"#f0f921\"]]}, \"colorway\": [\"#636efa\", \"#EF553B\", \"#00cc96\", \"#ab63fa\", \"#FFA15A\", \"#19d3f3\", \"#FF6692\", \"#B6E880\", \"#FF97FF\", \"#FECB52\"], \"font\": {\"color\": \"#2a3f5f\"}, \"geo\": {\"bgcolor\": \"white\", \"lakecolor\": \"white\", \"landcolor\": \"#E5ECF6\", \"showlakes\": true, \"showland\": true, \"subunitcolor\": \"white\"}, \"hoverlabel\": {\"align\": \"left\"}, \"hovermode\": \"closest\", \"mapbox\": {\"style\": \"light\"}, \"paper_bgcolor\": \"white\", \"plot_bgcolor\": \"#E5ECF6\", \"polar\": {\"angularaxis\": {\"gridcolor\": \"white\", \"linecolor\": \"white\", \"ticks\": \"\"}, \"bgcolor\": \"#E5ECF6\", \"radialaxis\": {\"gridcolor\": \"white\", \"linecolor\": \"white\", \"ticks\": \"\"}}, \"scene\": {\"xaxis\": {\"backgroundcolor\": \"#E5ECF6\", \"gridcolor\": \"white\", \"gridwidth\": 2, \"linecolor\": \"white\", \"showbackground\": true, \"ticks\": \"\", \"zerolinecolor\": \"white\"}, \"yaxis\": {\"backgroundcolor\": \"#E5ECF6\", \"gridcolor\": \"white\", \"gridwidth\": 2, \"linecolor\": \"white\", \"showbackground\": true, \"ticks\": \"\", \"zerolinecolor\": \"white\"}, \"zaxis\": {\"backgroundcolor\": \"#E5ECF6\", \"gridcolor\": \"white\", \"gridwidth\": 2, \"linecolor\": \"white\", \"showbackground\": true, \"ticks\": \"\", \"zerolinecolor\": \"white\"}}, \"shapedefaults\": {\"line\": {\"color\": \"#2a3f5f\"}}, \"ternary\": {\"aaxis\": {\"gridcolor\": \"white\", \"linecolor\": \"white\", \"ticks\": \"\"}, \"baxis\": {\"gridcolor\": \"white\", \"linecolor\": \"white\", \"ticks\": \"\"}, \"bgcolor\": \"#E5ECF6\", \"caxis\": {\"gridcolor\": \"white\", \"linecolor\": \"white\", \"ticks\": \"\"}}, \"title\": {\"x\": 0.05}, \"xaxis\": {\"automargin\": true, \"gridcolor\": \"white\", \"linecolor\": \"white\", \"ticks\": \"\", \"title\": {\"standoff\": 15}, \"zerolinecolor\": \"white\", \"zerolinewidth\": 2}, \"yaxis\": {\"automargin\": true, \"gridcolor\": \"white\", \"linecolor\": \"white\", \"ticks\": \"\", \"title\": {\"standoff\": 15}, \"zerolinecolor\": \"white\", \"zerolinewidth\": 2}}}},\n",
       "                        {\"responsive\": true}\n",
       "                    ).then(function(){\n",
       "                            \n",
       "var gd = document.getElementById('464d06df-aa06-41a6-96a2-4fa0f743107b');\n",
       "var x = new MutationObserver(function (mutations, observer) {{\n",
       "        var display = window.getComputedStyle(gd).display;\n",
       "        if (!display || display === 'none') {{\n",
       "            console.log([gd, 'removed!']);\n",
       "            Plotly.purge(gd);\n",
       "            observer.disconnect();\n",
       "        }}\n",
       "}});\n",
       "\n",
       "// Listen for the removal of the full notebook cells\n",
       "var notebookContainer = gd.closest('#notebook-container');\n",
       "if (notebookContainer) {{\n",
       "    x.observe(notebookContainer, {childList: true});\n",
       "}}\n",
       "\n",
       "// Listen for the clearing of the current output cell\n",
       "var outputEl = gd.closest('.output');\n",
       "if (outputEl) {{\n",
       "    x.observe(outputEl, {childList: true});\n",
       "}}\n",
       "\n",
       "                        })\n",
       "                };\n",
       "                });\n",
       "            </script>\n",
       "        </div>"
      ]
     },
     "metadata": {},
     "output_type": "display_data"
    }
   ],
   "source": [
    "import chart_studio.plotly as py\n",
    "import plotly.graph_objs as go\n",
    "import plotly.offline as py\n",
    "import plotly.figure_factory as ff\n",
    "from plotly.offline import iplot\n",
    "\n",
    "import numpy as np\n",
    "import pandas as pd\n",
    "import scipy\n",
    "# Среднее и стандартное отклонение \n",
    "print('mean=%.3f stdv=%.3f' % (np.mean(data.Price_euros), np.std(data.Price_euros)))\n",
    "trace = go.Histogram(\n",
    "    x=data.Price_euros\n",
    "    \n",
    ")\n",
    "\n",
    "py.iplot([trace], filename='normality-histogram')"
   ]
  },
  {
   "cell_type": "code",
   "execution_count": null,
   "metadata": {},
   "outputs": [],
   "source": []
  }
 ],
 "metadata": {
  "kernelspec": {
   "display_name": "Python 3",
   "language": "python",
   "name": "python3"
  },
  "language_info": {
   "codemirror_mode": {
    "name": "ipython",
    "version": 3
   },
   "file_extension": ".py",
   "mimetype": "text/x-python",
   "name": "python",
   "nbconvert_exporter": "python",
   "pygments_lexer": "ipython3",
   "version": "3.7.4"
  }
 },
 "nbformat": 4,
 "nbformat_minor": 2
}
