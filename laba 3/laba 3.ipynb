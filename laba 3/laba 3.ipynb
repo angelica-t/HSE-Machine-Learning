{
 "cells": [
  {
   "cell_type": "code",
   "execution_count": 1,
   "metadata": {},
   "outputs": [],
   "source": [
    "#ссылка на мой репозиторий в git hub: https://github.com/angelica-t/HSE-Machine-Learning\n",
    "import pandas as pd\n",
    "import os\n",
    "import json\n",
    "import numpy as np\n",
    "from pandas.io.json import json_normalize\n",
    "\n",
    "\n",
    "#some_data=data.sample(frac=0.1, random_state=2)\n",
    "#print(some_data.dtypes)\n",
    "data = pd.read_csv(\"./train.csv\", low_memory=False)\n",
    "df = data.sample(frac=0.1, random_state=2)\n",
    "df_s = data.sample(frac=0.01, random_state=2)\n",
    "\n",
    "df.to_csv(r'10%_data.csv', index = False)\n",
    "df_s.to_csv(r'1%_data.csv', index = False)"
   ]
  },
  {
   "cell_type": "code",
   "execution_count": 2,
   "metadata": {},
   "outputs": [],
   "source": [
    "def load_df(csv_path='./1%_data.csv', nrows=None):\n",
    "    JSON_COLUMNS = ['device', 'geoNetwork', 'totals', 'trafficSource']\n",
    "    \n",
    "    df = pd.read_csv(csv_path, \n",
    "                     converters={column: json.loads for column in JSON_COLUMNS}, \n",
    "                     dtype={'fullVisitorId': 'str'}, # Important!!\n",
    "                     nrows=nrows)\n",
    "    \n",
    "    for column in JSON_COLUMNS:\n",
    "        column_as_df = json_normalize(df[column])\n",
    "        column_as_df.columns = [f\"{column}.{subcolumn}\" for subcolumn in column_as_df.columns]\n",
    "        df = df.drop(column, axis=1).merge(column_as_df, right_index=True, left_index=True)\n",
    "    print(f\"Loaded {os.path.basename(csv_path)}. Shape: {df.shape}\")\n",
    "    return df"
   ]
  },
  {
   "cell_type": "code",
   "execution_count": 3,
   "metadata": {},
   "outputs": [
    {
     "name": "stdout",
     "output_type": "stream",
     "text": [
      "Loaded 1%_data.csv. Shape: (9037, 54)\n"
     ]
    }
   ],
   "source": [
    "df_train = load_df()"
   ]
  },
  {
   "cell_type": "code",
   "execution_count": 58,
   "metadata": {},
   "outputs": [],
   "source": [
    "df_train.to_csv(r'clean1%_data.csv', index = False)"
   ]
  },
  {
   "cell_type": "code",
   "execution_count": 57,
   "metadata": {
    "scrolled": true
   },
   "outputs": [
    {
     "name": "stdout",
     "output_type": "stream",
     "text": [
      "channelGrouping             object\n",
      "date                         int64\n",
      "fullVisitorId               object\n",
      "sessionId                   object\n",
      "socialEngagementType        object\n",
      "visitId                      int64\n",
      "visitNumber                  int64\n",
      "visitStartTime               int64\n",
      "device.browser              object\n",
      "device.operatingSystem      object\n",
      "device.isMobile               bool\n",
      "device.deviceCategory       object\n",
      "geoNetwork.continent        object\n",
      "geoNetwork.subContinent     object\n",
      "geoNetwork.country          object\n",
      "geoNetwork.networkDomain    object\n",
      "totals.visits               object\n",
      "totals.hits                 object\n",
      "totals.pageviews            object\n",
      "totals.newVisits            object\n",
      "trafficSource.source        object\n",
      "trafficSource.medium        object\n",
      "dtype: object\n"
     ]
    }
   ],
   "source": [
    "print(df_train.dtypes)"
   ]
  },
  {
   "cell_type": "code",
   "execution_count": null,
   "metadata": {},
   "outputs": [],
   "source": []
  }
 ],
 "metadata": {
  "kernelspec": {
   "display_name": "Python 3",
   "language": "python",
   "name": "python3"
  },
  "language_info": {
   "codemirror_mode": {
    "name": "ipython",
    "version": 3
   },
   "file_extension": ".py",
   "mimetype": "text/x-python",
   "name": "python",
   "nbconvert_exporter": "python",
   "pygments_lexer": "ipython3",
   "version": "3.7.4"
  }
 },
 "nbformat": 4,
 "nbformat_minor": 2
}
