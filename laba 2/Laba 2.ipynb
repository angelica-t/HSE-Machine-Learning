{
 "cells": [
  {
   "cell_type": "code",
   "execution_count": 45,
   "metadata": {},
   "outputs": [
    {
     "data": {
      "text/html": [
       "<div>\n",
       "<style scoped>\n",
       "    .dataframe tbody tr th:only-of-type {\n",
       "        vertical-align: middle;\n",
       "    }\n",
       "\n",
       "    .dataframe tbody tr th {\n",
       "        vertical-align: top;\n",
       "    }\n",
       "\n",
       "    .dataframe thead th {\n",
       "        text-align: right;\n",
       "    }\n",
       "</style>\n",
       "<table border=\"1\" class=\"dataframe\">\n",
       "  <thead>\n",
       "    <tr style=\"text-align: right;\">\n",
       "      <th></th>\n",
       "      <th>Bought_Or_Not</th>\n",
       "      <th>Recency</th>\n",
       "      <th>Frequency</th>\n",
       "      <th>Monetary_Value</th>\n",
       "      <th>Mean_Quantity</th>\n",
       "      <th>ActivationDate</th>\n",
       "      <th>Age</th>\n",
       "      <th>SubscribedEmail</th>\n",
       "      <th>SubscribedPush</th>\n",
       "      <th>Male</th>\n",
       "    </tr>\n",
       "  </thead>\n",
       "  <tbody>\n",
       "    <tr>\n",
       "      <td>0</td>\n",
       "      <td>0.0</td>\n",
       "      <td>160.0</td>\n",
       "      <td>8.142857</td>\n",
       "      <td>251.789474</td>\n",
       "      <td>1.035088</td>\n",
       "      <td>735599</td>\n",
       "      <td>24.0</td>\n",
       "      <td>False</td>\n",
       "      <td>True</td>\n",
       "      <td>0</td>\n",
       "    </tr>\n",
       "    <tr>\n",
       "      <td>1</td>\n",
       "      <td>0.0</td>\n",
       "      <td>720.0</td>\n",
       "      <td>4.857143</td>\n",
       "      <td>279.647059</td>\n",
       "      <td>1.000000</td>\n",
       "      <td>735599</td>\n",
       "      <td>46.0</td>\n",
       "      <td>True</td>\n",
       "      <td>True</td>\n",
       "      <td>1</td>\n",
       "    </tr>\n",
       "    <tr>\n",
       "      <td>2</td>\n",
       "      <td>1.0</td>\n",
       "      <td>15.0</td>\n",
       "      <td>4.714286</td>\n",
       "      <td>398.734848</td>\n",
       "      <td>1.666667</td>\n",
       "      <td>735599</td>\n",
       "      <td>27.0</td>\n",
       "      <td>True</td>\n",
       "      <td>True</td>\n",
       "      <td>0</td>\n",
       "    </tr>\n",
       "    <tr>\n",
       "      <td>3</td>\n",
       "      <td>0.0</td>\n",
       "      <td>177.0</td>\n",
       "      <td>14.142857</td>\n",
       "      <td>262.737374</td>\n",
       "      <td>1.141414</td>\n",
       "      <td>735599</td>\n",
       "      <td>54.0</td>\n",
       "      <td>True</td>\n",
       "      <td>True</td>\n",
       "      <td>0</td>\n",
       "    </tr>\n",
       "    <tr>\n",
       "      <td>4</td>\n",
       "      <td>1.0</td>\n",
       "      <td>115.0</td>\n",
       "      <td>3.000000</td>\n",
       "      <td>393.714286</td>\n",
       "      <td>1.809524</td>\n",
       "      <td>735599</td>\n",
       "      <td>48.0</td>\n",
       "      <td>False</td>\n",
       "      <td>False</td>\n",
       "      <td>1</td>\n",
       "    </tr>\n",
       "  </tbody>\n",
       "</table>\n",
       "</div>"
      ],
      "text/plain": [
       "   Bought_Or_Not  Recency  Frequency  Monetary_Value  Mean_Quantity  \\\n",
       "0            0.0    160.0   8.142857      251.789474       1.035088   \n",
       "1            0.0    720.0   4.857143      279.647059       1.000000   \n",
       "2            1.0     15.0   4.714286      398.734848       1.666667   \n",
       "3            0.0    177.0  14.142857      262.737374       1.141414   \n",
       "4            1.0    115.0   3.000000      393.714286       1.809524   \n",
       "\n",
       "   ActivationDate   Age  SubscribedEmail  SubscribedPush  Male  \n",
       "0          735599  24.0            False            True     0  \n",
       "1          735599  46.0             True            True     1  \n",
       "2          735599  27.0             True            True     0  \n",
       "3          735599  54.0             True            True     0  \n",
       "4          735599  48.0            False           False     1  "
      ]
     },
     "execution_count": 45,
     "metadata": {},
     "output_type": "execute_result"
    }
   ],
   "source": [
    "import pandas as pd\n",
    "import numpy as np\n",
    "data=pd.read_csv(\"./exported_data.csv\",sep=',', decimal=\".\") # Считываем данные из файла\n",
    "#data['Bought_Or_Not']=data['Bought_Or_Not'].applymap(np.int64)\n",
    "data.astype({'Bought_Or_Not': 'int32'})\n",
    "pd.Series([1, 2], dtype='int32')\n",
    "\n",
    "data.head() "
   ]
  },
  {
   "cell_type": "code",
   "execution_count": 34,
   "metadata": {
    "scrolled": false
   },
   "outputs": [],
   "source": [
    "from sklearn.model_selection import train_test_split\n",
    "from sklearn.tree import DecisionTreeClassifier\n",
    "# ДЕЛИМ ДАННЫЕ\n",
    "X=data.drop('Bought_Or_Not',axis=1) # исключаем из данных зависимую переменную\n",
    "y=data['Bought_Or_Not']\n",
    "X_train, X_test, y_train, y_test = train_test_split(X, y, test_size = 0.2, random_state=42)\n",
    "tree = DecisionTreeClassifier(criterion='entropy', random_state=1)\n",
    "\n",
    "# ОБУЧАЕМ ДЕРЕВО\n",
    "tree.fit(X_train, y_train)\n",
    "\n",
    "# ПРЕДСКАЗЫВАЕМ\n",
    "y_pred = tree.predict(X_test)\n",
    "print(y_pred[0:5])\n",
    "\n",
    "# СЧИТАЕМ ВСЯКИЕ МЕТРИКИ\n",
    "from sklearn.metrics import accuracy_score\n",
    "from sklearn.metrics import mean_squared_error as MSE\n",
    "from sklearn.metrics import confusion_matrix, classification_report\n",
    "\n",
    "acc = accuracy_score(y_test, y_pred)\n",
    "print(\"Test set accuracy: {:.2f}\".format(acc))\n",
    "print(confusion_matrix(y_test, y_pred))\n",
    "print(classification_report(y_test, y_pred))\n",
    "  mse_TREE\n",
    "mse_tree = MSE(y_test, y_pred)\n",
    "\n",
    "  rmse_TREE\n",
    "rmse_tree = mse_tree**(1/2)\n",
    "\n",
    " Print rmse_dt\n",
    "print(\"Test set RMSE of tree: {:.2f}\".format(rmse_tree))\n",
    "# СТРОИМ ГРАФИК\n",
    "\n",
    "#from sklearn.externals.six import StringIO  \n",
    "#from IPython.display import Image  \n",
    "#from sklearn.tree import export_graphviz\n",
    "#import pydotplus\n",
    "#dot_data = StringIO()\n",
    "#export_graphviz(tree, out_file=dot_data,  \n",
    "#                filled=True, rounded=True,\n",
    "#                special_characters=True)\n",
    "#graph = pydotplus.graph_from_dot_data(dot_data.getvalue())  \n",
    "#Image(graph.create_png())\n"
   ]
  },
  {
   "cell_type": "code",
   "execution_count": 35,
   "metadata": {},
   "outputs": [],
   "source": [
    "# СЛУЧАЙНЫЙ ЛЕС\n",
    "# Import RandomForestRegressor\n",
    "from sklearn.ensemble import RandomForestClassifier\n",
    "\n",
    "# Instantiate rf\n",
    "rf = RandomForestClassifier(n_estimators=10, random_state=0,criterion='entropy' )\n",
    "                           \n",
    "# Fit rf to the training set            \n",
    "rf.fit(X_train, y_train)\n",
    "# ПРЕДСКАЗЫВАЕМ И ВЫЧИСЛЯЕМ МЕТРИКУ\n",
    "from sklearn.metrics import mean_squared_error as MSE\n",
    "\n",
    "# Predict the test set labels\n",
    "y_pred = rf.predict(X_test)\n",
    "\n",
    "# Evaluate the test set RMSE\n",
    "rmse_test = MSE(y_test, y_pred)**(1/2)\n",
    "\n",
    "# Print rmse_test\n",
    "print('Test set RMSE of rf: {:.2f}'.format(rmse_test))"
   ]
  },
  {
   "cell_type": "code",
   "execution_count": 39,
   "metadata": {},
   "outputs": [],
   "source": [
    "# ГРАДИЕНТНЫЙ БУСТИНГ\n",
    "# \n",
    "from sklearn.ensemble import GradientBoostingClassifier\n",
    "\n",
    "# \n",
    "gb = GradientBoostingClassifier(max_depth=4,\n",
    "                               n_estimators=200,\n",
    "                               random_state=2)\n",
    "#\n",
    "gb.fit(X_train, y_train)\n",
    "\n",
    "# \n",
    "y_pred = gb.predict(X_test)"
   ]
  },
  {
   "cell_type": "code",
   "execution_count": 53,
   "metadata": {},
   "outputs": [
    {
     "data": {
      "image/png": "[encoded data removed]",
      "text/plain": [
       "<Figure size 432x288 with 1 Axes>"
      ]
     },
     "metadata": {
      "needs_background": "light"
     },
     "output_type": "display_data"
    }
   ],
   "source": [
    "y_pred_prob = tree.predict_proba(X_test)[:,1]\n",
    "fpr, tpr, thresholds = roc_curve(y_test, y_pred_prob)\n",
    "\n",
    "# Plot ROC curve\n",
    "plt.plot([0, 1], [0, 1], 'k--')\n",
    "plt.plot(fpr, tpr)\n",
    "plt.xlabel('False Positive Rate')\n",
    "plt.ylabel('True Positive Rate')\n",
    "plt.title('ROC Curve')\n",
    "plt.show()"
   ]
  },
  {
   "cell_type": "code",
   "execution_count": 50,
   "metadata": {},
   "outputs": [
    {
     "data": {
      "image/png": "[encoded data removed]",
      "text/plain": [
       "<Figure size 432x288 with 1 Axes>"
      ]
     },
     "metadata": {
      "needs_background": "light"
     },
     "output_type": "display_data"
    }
   ],
   "source": [
    "y_pred_prob = rf.predict_proba(X_test)[:,1]\n",
    "fpr, tpr, thresholds = roc_curve(y_test, y_pred_prob)\n",
    "\n",
    "# Plot ROC curve\n",
    "plt.plot([0, 1], [0, 1], 'k--')\n",
    "plt.plot(fpr, tpr)\n",
    "plt.xlabel('False Positive Rate')\n",
    "plt.ylabel('True Positive Rate')\n",
    "plt.title('ROC Curve')\n",
    "plt.show()"
   ]
  },
  {
   "cell_type": "code",
   "execution_count": 51,
   "metadata": {},
   "outputs": [
    {
     "data": {
      "image/png": "[encoded data removed]",
      "text/plain": [
       "<Figure size 432x288 with 1 Axes>"
      ]
     },
     "metadata": {
      "needs_background": "light"
     },
     "output_type": "display_data"
    }
   ],
   "source": [
    "y_pred_prob = gb.predict_proba(X_test)[:,1]\n",
    "fpr, tpr, thresholds = roc_curve(y_test, y_pred_prob)\n",
    "\n",
    "# Plot ROC curve\n",
    "plt.plot([0, 1], [0, 1], 'k--')\n",
    "plt.plot(fpr, tpr)\n",
    "plt.xlabel('False Positive Rate')\n",
    "plt.ylabel('True Positive Rate')\n",
    "plt.title('ROC Curve')\n",
    "plt.show()"
   ]
  },
  {
   "cell_type": "code",
   "execution_count": null,
   "metadata": {},
   "outputs": [],
   "source": []
  }
 ],
 "metadata": {
  "kernelspec": {
   "display_name": "Python 3",
   "language": "python",
   "name": "python3"
  },
  "language_info": {
   "codemirror_mode": {
    "name": "ipython",
    "version": 3
   },
   "file_extension": ".py",
   "mimetype": "text/x-python",
   "name": "python",
   "nbconvert_exporter": "python",
   "pygments_lexer": "ipython3",
   "version": "3.7.4"
  }
 },
 "nbformat": 4,
 "nbformat_minor": 2
}
