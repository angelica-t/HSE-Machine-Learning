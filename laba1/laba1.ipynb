{
 "cells": [
  {
   "cell_type": "code",
   "execution_count": 1,
   "metadata": {},
   "outputs": [],
   "source": [
    "import pandas as pd"
   ]
  },
  {
   "cell_type": "code",
   "execution_count": 2,
   "metadata": {},
   "outputs": [
    {
     "name": "stderr",
     "output_type": "stream",
     "text": [
      "C:\\Users\\tagil\\Anaconda3\\lib\\site-packages\\IPython\\core\\interactiveshell.py:3058: DtypeWarning: Columns (7) have mixed types. Specify dtype option on import or set low_memory=False.\n",
      "  interactivity=interactivity, compiler=compiler, result=result)\n"
     ]
    }
   ],
   "source": [
    "# Считываем данные из файла\n",
    "data=pd.read_csv(\"./Data/casc-resto.csv\",sep=';')"
   ]
  },
  {
   "cell_type": "code",
   "execution_count": 3,
   "metadata": {},
   "outputs": [
    {
     "name": "stdout",
     "output_type": "stream",
     "text": [
      "        CustomerID  Restaurant      RKDate                    RegionName  \\\n",
      "4665       2810585         436  2017-07-01  Москва и Московская область    \n",
      "5606       2848543         727  2017-07-01  Москва и Московская область    \n",
      "23504      2795631          49  2017-07-01  Москва и Московская область    \n",
      "23971      2831289          93  2017-07-01  Москва и Московская область    \n",
      "24618      2776418         139  2017-07-01  Москва и Московская область    \n",
      "...            ...         ...         ...                           ...   \n",
      "881148     2793183          43  2017-07-01  Москва и Московская область    \n",
      "881323     2875013         922  2017-07-01  Москва и Московская область    \n",
      "881648     2880345         449  2017-07-01  Москва и Московская область    \n",
      "881867     2908412         469  2017-07-01  Москва и Московская область    \n",
      "882131     2777471         464  2017-07-01  Москва и Московская область    \n",
      "\n",
      "                  BrandsNames DishCategoryName  Quantity SummBasic  \\\n",
      "4665                 IL Патио      NON ALCOHOL         1        20   \n",
      "5606                 IL Патио      NON ALCOHOL         1        20   \n",
      "23504                IL Патио      NON ALCOHOL         2        30   \n",
      "23971                IL Патио             FOOD         1        30   \n",
      "24618         IL Патио,Шикари             FOOD         1        30   \n",
      "...                       ...              ...       ...       ...   \n",
      "881148               IL Патио             FOOD         1       895   \n",
      "881323  IL Патио,Планета Суши           COMBO          1       895   \n",
      "881648            TGI FRIDAYS             FOOD         2      1150   \n",
      "881867               IL Патио             FOOD         2      1790   \n",
      "882131               IL Патио          ALCOHOL         1      1599   \n",
      "\n",
      "       SummAfterPointsUsage  \n",
      "4665                  14,99  \n",
      "5606                  14,99  \n",
      "23504                  22,5  \n",
      "23971                 22,49  \n",
      "24618                 27,34  \n",
      "...                     ...  \n",
      "881148               671,13  \n",
      "881323               736,19  \n",
      "881648               862,61  \n",
      "881867               1342,5  \n",
      "882131              1199,14  \n",
      "\n",
      "[806 rows x 9 columns]\n"
     ]
    }
   ],
   "source": [
    "# Смотрим на данные по нужной дате\n",
    "print(data[data['RKDate'] == '2017-07-01'])"
   ]
  },
  {
   "cell_type": "code",
   "execution_count": 6,
   "metadata": {
    "scrolled": true
   },
   "outputs": [
    {
     "name": "stdout",
     "output_type": "stream",
     "text": [
      "        CustomerID  Restaurant      RKDate                    RegionName  \\\n",
      "0          2898197         391  2017-07-16  Москва и Московская область    \n",
      "1          2903215          43  2015-04-07  Москва и Московская область    \n",
      "2          2748887          43  2015-05-22  Москва и Московская область    \n",
      "3          2862077          46  2015-03-05  Москва и Московская область    \n",
      "4          2862077          46  2015-03-11  Москва и Московская область    \n",
      "...            ...         ...         ...                           ...   \n",
      "848938     2822873         920  2015-05-23  Москва и Московская область    \n",
      "866131     2882296         722  2017-08-07  Москва и Московская область    \n",
      "874643     2771310         128  2016-02-02  Москва и Московская область    \n",
      "878930     2777572         440  2015-08-22  Москва и Московская область    \n",
      "880274     2787762          49  2016-09-01  Москва и Московская область    \n",
      "\n",
      "                  BrandsNames DishCategoryName  Quantity SummBasic  \\\n",
      "0                 TGI FRIDAYS      NON ALCOHOL         2         2   \n",
      "1                    IL Патио      NON ALCOHOL         1         5   \n",
      "2                    IL Патио      NON ALCOHOL         1         5   \n",
      "3                    IL Патио      NON ALCOHOL         1         5   \n",
      "4                    IL Патио      NON ALCOHOL         1         5   \n",
      "...                       ...              ...       ...       ...   \n",
      "848938  IL Патио,Планета Суши             FOOD         1       351   \n",
      "866131  IL Патио,Планета Суши             FOOD         1       415   \n",
      "874643               IL Патио          ALCOHOL         2       670   \n",
      "878930            TGI FRIDAYS    FOOD DELIVERY         1       575   \n",
      "880274               IL Патио    FOOD DELIVERY         1       799   \n",
      "\n",
      "       SummAfterPointsUsage  \n",
      "0                         2  \n",
      "1                         5  \n",
      "2                         5  \n",
      "3                         5  \n",
      "4                         5  \n",
      "...                     ...  \n",
      "848938                  351  \n",
      "866131                  415  \n",
      "874643                  595  \n",
      "878930                  575  \n",
      "880274                  799  \n",
      "\n",
      "[49990 rows x 9 columns]\n"
     ]
    }
   ],
   "source": [
    "# Группируем данные по идентификатору клиента и смотрим на данные\n",
    "grouped_data=data.groupby('CustomerID')\n",
    "print(grouped_data.head())"
   ]
  },
  {
   "cell_type": "code",
   "execution_count": 9,
   "metadata": {},
   "outputs": [
    {
     "ename": "ValueError",
     "evalue": "The truth value of a Series is ambiguous. Use a.empty, a.bool(), a.item(), a.any() or a.all().",
     "output_type": "error",
     "traceback": [
      "\u001b[1;31m---------------------------------------------------------------------------\u001b[0m",
      "\u001b[1;31mValueError\u001b[0m                                Traceback (most recent call last)",
      "\u001b[1;32m<ipython-input-9-30c1096c5aba>\u001b[0m in \u001b[0;36m<module>\u001b[1;34m\u001b[0m\n\u001b[0;32m      1\u001b[0m \u001b[1;32mfor\u001b[0m  \u001b[0mname\u001b[0m\u001b[1;33m,\u001b[0m \u001b[0mgroup\u001b[0m \u001b[1;32min\u001b[0m \u001b[0mgrouped_data\u001b[0m\u001b[1;33m:\u001b[0m\u001b[1;33m\u001b[0m\u001b[1;33m\u001b[0m\u001b[0m\n\u001b[1;32m----> 2\u001b[1;33m     \u001b[0mprint\u001b[0m\u001b[1;33m(\u001b[0m\u001b[0mlen\u001b[0m\u001b[1;33m(\u001b[0m\u001b[0mgroup\u001b[0m\u001b[1;33m[\u001b[0m\u001b[0mgroup\u001b[0m\u001b[1;33m[\u001b[0m\u001b[1;34m'RKDate'\u001b[0m\u001b[1;33m]\u001b[0m \u001b[1;33m<\u001b[0m \u001b[1;34m'2017-07-01'\u001b[0m \u001b[1;32mand\u001b[0m \u001b[0mgroup\u001b[0m\u001b[1;33m[\u001b[0m\u001b[1;34m'RKDate'\u001b[0m\u001b[1;33m]\u001b[0m \u001b[1;33m>\u001b[0m \u001b[1;34m'2017-12-31'\u001b[0m   \u001b[1;33m]\u001b[0m \u001b[1;33m)\u001b[0m\u001b[1;33m)\u001b[0m\u001b[1;33m\u001b[0m\u001b[1;33m\u001b[0m\u001b[0m\n\u001b[0m",
      "\u001b[1;32m~\\Anaconda3\\lib\\site-packages\\pandas\\core\\generic.py\u001b[0m in \u001b[0;36m__nonzero__\u001b[1;34m(self)\u001b[0m\n\u001b[0;32m   1553\u001b[0m             \u001b[1;34m\"The truth value of a {0} is ambiguous. \"\u001b[0m\u001b[1;33m\u001b[0m\u001b[1;33m\u001b[0m\u001b[0m\n\u001b[0;32m   1554\u001b[0m             \"Use a.empty, a.bool(), a.item(), a.any() or a.all().\".format(\n\u001b[1;32m-> 1555\u001b[1;33m                 \u001b[0mself\u001b[0m\u001b[1;33m.\u001b[0m\u001b[0m__class__\u001b[0m\u001b[1;33m.\u001b[0m\u001b[0m__name__\u001b[0m\u001b[1;33m\u001b[0m\u001b[1;33m\u001b[0m\u001b[0m\n\u001b[0m\u001b[0;32m   1556\u001b[0m             )\n\u001b[0;32m   1557\u001b[0m         )\n",
      "\u001b[1;31mValueError\u001b[0m: The truth value of a Series is ambiguous. Use a.empty, a.bool(), a.item(), a.any() or a.all()."
     ]
    }
   ],
   "source": [
    "for  name, group in grouped_data:\n",
    "    print(len(group[group['RKDate'] < '2017-07-01' and group['RKDate'] > '2017-12-31'   ] ))"
   ]
  },
  {
   "cell_type": "code",
   "execution_count": null,
   "metadata": {},
   "outputs": [],
   "source": [
    "# функция для получения флага \"покупал или не покупал\" \n",
    "def boughtOrNot(dates):\n",
    "    for date in dates:\n",
    "        if date<='2017-12-31' and date>='2017-07-01':\n",
    "            return 1\n",
    "        return 0\n",
    "a={}\n",
    "a['bought']=boughtOrNot(group['RKDate'])\n",
    "# функция для получения показателя Recency\n",
    "def getRecency(dates):\n",
    "    for date in dates:\n",
    "        #if date<='2017-07-01'\n",
    "# функция для получения показателя Frequency\n",
    "# функция для получения показателя Monetary Value\n",
    "# функция для вычисления собственного показателя\n",
    "#"
   ]
  }
 ],
 "metadata": {
  "kernelspec": {
   "display_name": "Python 3",
   "language": "python",
   "name": "python3"
  },
  "language_info": {
   "codemirror_mode": {
    "name": "ipython",
    "version": 3
   },
   "file_extension": ".py",
   "mimetype": "text/x-python",
   "name": "python",
   "nbconvert_exporter": "python",
   "pygments_lexer": "ipython3",
   "version": "3.7.4"
  }
 },
 "nbformat": 4,
 "nbformat_minor": 2
}
