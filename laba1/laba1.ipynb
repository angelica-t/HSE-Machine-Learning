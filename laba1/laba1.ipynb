{
 "cells": [
  {
   "cell_type": "code",
   "execution_count": 1,
   "metadata": {},
   "outputs": [],
   "source": [
    "import pandas as pd"
   ]
  },
  {
   "cell_type": "code",
   "execution_count": 5,
   "metadata": {},
   "outputs": [],
   "source": [
    "data=pd.read_csv(\"./Data/casc-resto.csv\",sep=';')"
   ]
  },
  {
   "cell_type": "code",
   "execution_count": 11,
   "metadata": {},
   "outputs": [
    {
     "name": "stdout",
     "output_type": "stream",
     "text": [
      "        CustomerID  Restaurant      RKDate                    RegionName  \\\n",
      "4665       2810585         436  2017-07-01  Москва и Московская область    \n",
      "5606       2848543         727  2017-07-01  Москва и Московская область    \n",
      "23504      2795631          49  2017-07-01  Москва и Московская область    \n",
      "23971      2831289          93  2017-07-01  Москва и Московская область    \n",
      "24618      2776418         139  2017-07-01  Москва и Московская область    \n",
      "...            ...         ...         ...                           ...   \n",
      "881148     2793183          43  2017-07-01  Москва и Московская область    \n",
      "881323     2875013         922  2017-07-01  Москва и Московская область    \n",
      "881648     2880345         449  2017-07-01  Москва и Московская область    \n",
      "881867     2908412         469  2017-07-01  Москва и Московская область    \n",
      "882131     2777471         464  2017-07-01  Москва и Московская область    \n",
      "\n",
      "                  BrandsNames DishCategoryName  Quantity SummBasic  \\\n",
      "4665                 IL Патио      NON ALCOHOL         1        20   \n",
      "5606                 IL Патио      NON ALCOHOL         1        20   \n",
      "23504                IL Патио      NON ALCOHOL         2        30   \n",
      "23971                IL Патио             FOOD         1        30   \n",
      "24618         IL Патио,Шикари             FOOD         1        30   \n",
      "...                       ...              ...       ...       ...   \n",
      "881148               IL Патио             FOOD         1       895   \n",
      "881323  IL Патио,Планета Суши           COMBO          1       895   \n",
      "881648            TGI FRIDAYS             FOOD         2      1150   \n",
      "881867               IL Патио             FOOD         2      1790   \n",
      "882131               IL Патио          ALCOHOL         1      1599   \n",
      "\n",
      "       SummAfterPointsUsage  \n",
      "4665                  14,99  \n",
      "5606                  14,99  \n",
      "23504                  22,5  \n",
      "23971                 22,49  \n",
      "24618                 27,34  \n",
      "...                     ...  \n",
      "881148               671,13  \n",
      "881323               736,19  \n",
      "881648               862,61  \n",
      "881867               1342,5  \n",
      "882131              1199,14  \n",
      "\n",
      "[806 rows x 9 columns]\n"
     ]
    }
   ],
   "source": [
    "print(data[data['RKDate'] == '2017-07-01'])"
   ]
  },
  {
   "cell_type": "code",
   "execution_count": 19,
   "metadata": {},
   "outputs": [
    {
     "ename": "ValueError",
     "evalue": "The truth value of a Series is ambiguous. Use a.empty, a.bool(), a.item(), a.any() or a.all().",
     "output_type": "error",
     "traceback": [
      "\u001b[1;31m---------------------------------------------------------------------------\u001b[0m",
      "\u001b[1;31mValueError\u001b[0m                                Traceback (most recent call last)",
      "\u001b[1;32m<ipython-input-19-f4d0bbac8863>\u001b[0m in \u001b[0;36m<module>\u001b[1;34m\u001b[0m\n\u001b[0;32m      1\u001b[0m \u001b[0mgrouped_data\u001b[0m\u001b[1;33m=\u001b[0m\u001b[0mdata\u001b[0m\u001b[1;33m.\u001b[0m\u001b[0mgroupby\u001b[0m\u001b[1;33m(\u001b[0m\u001b[1;34m'CustomerID'\u001b[0m\u001b[1;33m)\u001b[0m\u001b[1;33m\u001b[0m\u001b[1;33m\u001b[0m\u001b[0m\n\u001b[0;32m      2\u001b[0m \u001b[1;32mfor\u001b[0m \u001b[0mname\u001b[0m\u001b[1;33m,\u001b[0m \u001b[0mgroup\u001b[0m \u001b[1;32min\u001b[0m \u001b[0mgrouped_data\u001b[0m\u001b[1;33m:\u001b[0m\u001b[1;33m\u001b[0m\u001b[1;33m\u001b[0m\u001b[0m\n\u001b[1;32m----> 3\u001b[1;33m     \u001b[0mprint\u001b[0m\u001b[1;33m(\u001b[0m\u001b[0mlen\u001b[0m\u001b[1;33m(\u001b[0m\u001b[0mgroup\u001b[0m\u001b[1;33m[\u001b[0m\u001b[0mgroup\u001b[0m\u001b[1;33m[\u001b[0m\u001b[1;34m'RKDate'\u001b[0m\u001b[1;33m]\u001b[0m \u001b[1;33m<\u001b[0m \u001b[1;34m'2017-07-01'\u001b[0m \u001b[1;32mand\u001b[0m \u001b[0mgroup\u001b[0m\u001b[1;33m[\u001b[0m\u001b[1;34m'RKDate'\u001b[0m\u001b[1;33m]\u001b[0m \u001b[1;33m>\u001b[0m \u001b[1;34m'2017-12-31'\u001b[0m\u001b[1;33m]\u001b[0m \u001b[1;33m)\u001b[0m\u001b[1;33m)\u001b[0m\u001b[1;33m\u001b[0m\u001b[1;33m\u001b[0m\u001b[0m\n\u001b[0m",
      "\u001b[1;32m~\\Anaconda3\\lib\\site-packages\\pandas\\core\\generic.py\u001b[0m in \u001b[0;36m__nonzero__\u001b[1;34m(self)\u001b[0m\n\u001b[0;32m   1553\u001b[0m             \u001b[1;34m\"The truth value of a {0} is ambiguous. \"\u001b[0m\u001b[1;33m\u001b[0m\u001b[1;33m\u001b[0m\u001b[0m\n\u001b[0;32m   1554\u001b[0m             \"Use a.empty, a.bool(), a.item(), a.any() or a.all().\".format(\n\u001b[1;32m-> 1555\u001b[1;33m                 \u001b[0mself\u001b[0m\u001b[1;33m.\u001b[0m\u001b[0m__class__\u001b[0m\u001b[1;33m.\u001b[0m\u001b[0m__name__\u001b[0m\u001b[1;33m\u001b[0m\u001b[1;33m\u001b[0m\u001b[0m\n\u001b[0m\u001b[0;32m   1556\u001b[0m             )\n\u001b[0;32m   1557\u001b[0m         )\n",
      "\u001b[1;31mValueError\u001b[0m: The truth value of a Series is ambiguous. Use a.empty, a.bool(), a.item(), a.any() or a.all()."
     ]
    }
   ],
   "source": [
    "grouped_data=data.groupby('CustomerID')\n",
    "for name, group in grouped_data:\n",
    "    print(len(group[    group['RKDate'] < '2017-07-01' and group['RKDate'] > '2017-12-31'   ] ))"
   ]
  },
  {
   "cell_type": "code",
   "execution_count": null,
   "metadata": {},
   "outputs": [],
   "source": []
  }
 ],
 "metadata": {
  "kernelspec": {
   "display_name": "Python 3",
   "language": "python",
   "name": "python3"
  },
  "language_info": {
   "codemirror_mode": {
    "name": "ipython",
    "version": 3
   },
   "file_extension": ".py",
   "mimetype": "text/x-python",
   "name": "python",
   "nbconvert_exporter": "python",
   "pygments_lexer": "ipython3",
   "version": "3.7.4"
  }
 },
 "nbformat": 4,
 "nbformat_minor": 2
}
