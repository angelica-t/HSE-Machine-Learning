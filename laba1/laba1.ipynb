{
 "cells": [
  {
   "cell_type": "code",
   "execution_count": 16,
   "metadata": {},
   "outputs": [],
   "source": [
    "import pandas as pd\n",
    "from datetime import datetime\n",
    "from dateutil import relativedelta\n",
    "import datetime as dt"
   ]
  },
  {
   "cell_type": "code",
   "execution_count": 24,
   "metadata": {},
   "outputs": [],
   "source": [
    "# БЛОК С ИМПОРТОМ ДАННЫХ\n",
    "data=pd.read_csv(\"./Data/casc-resto.csv\",sep=';') # Считываем данные из файла\n",
    "data['RKDate']=pd.to_datetime(data['RKDate'])\n",
    "fix_date=(datetime.strptime('2017-07-01', '%Y-%m-%d'))\n",
    "# Группируем данные по идентификатору клиента и смотрим на данные\n"
   ]
  },
  {
   "cell_type": "code",
   "execution_count": 29,
   "metadata": {},
   "outputs": [
    {
     "name": "stdout",
     "output_type": "stream",
     "text": [
      "      CustomerID  Bought_Or_Not  Recency  Frequency\n",
      "0        2728046            0.0    160.0   8.142857\n",
      "1        2728088            0.0    720.0   4.857143\n",
      "2        2728089            1.0     15.0   4.714286\n",
      "3        2728095            0.0    177.0  14.142857\n",
      "4        2728107            1.0    115.0   3.000000\n",
      "...          ...            ...      ...        ...\n",
      "9995     2913103            0.0    401.0   9.750000\n",
      "9996     2913106            0.0    126.0  46.750000\n",
      "9997     2913114            0.0     95.0  27.750000\n",
      "9998     2913123            1.0      8.0  58.000000\n",
      "9999     2913132            1.0     44.0   2.571429\n",
      "\n",
      "[10000 rows x 4 columns]\n"
     ]
    }
   ],
   "source": [
    "# БЛОК С РАСЧЕТОМ ПОКАЗАТЕЛЕЙ\n",
    "def agg(group): # функция, в которой считаются все показатели\n",
    "    bought=0 # переменная для покупал/не покупал\n",
    "    recency=10000\n",
    "    spent = 0\n",
    "    visitedTimes = 1\n",
    "    nonCashSpent = 0\n",
    "    visitedTimes1 = 1\n",
    "    visitsBeforeFix=0\n",
    "    firstVisitDate=fix_date\n",
    "    for index, row in group.iterrows(): # пробегаемся по датам в каждой группе \n",
    "        if row['RKDate'] <=  datetime.strptime('2017-12-31', '%Y-%m-%d')  and row['RKDate'] >= fix_date: # сравниваем даты\n",
    "            bought=1 # покупка была совершена в промежуток времени \n",
    "            \n",
    "        if row['RKDate'] <= fix_date and (fix_date - row['RKDate']).days < recency: \n",
    "            recency = (fix_date - row['RKDate']).days # считаем количество дней от даты покупки/визита до фиксированной даты\n",
    "                \n",
    "        if row['RKDate'] <= fix_date:\n",
    "            visitsBeforeFix=visitsBeforeFix+1 # считаем дату самого недавнего визита до фиксированной даты\n",
    "            spent+=row['SummAfterPointsUsage'] # считаем сколько всего было потрачено\n",
    "        if row['RKDate']<= firstVisitDate:\n",
    "            firstVisitDate=row['RKDate'] # считаем дату первого визита \n",
    "            \n",
    "#        if (row['RKDate'] <= fix_date):\n",
    "#            visitedTimes1+=1\n",
    "#            nonCashSpent+= ( row['SummBasic'] - row['SummAfterPointsUsage'] )\n",
    "#            someVar= nonCashSpent / visitedTimes1\n",
    "    if visitsBeforeFix == 0: # если не было визитов до фиксированной даты, то частота равна 0\n",
    "        frequency=0\n",
    "    months  = 1 + (relativedelta.relativedelta(fix_date,firstVisitDate)).months # считаем сколько месяцев прошло от первого визита до фиксированной даты\n",
    "    frequency= visitsBeforeFix/ months # считаем частоту\n",
    "    \n",
    "    MonetaryValue= spent / visitsBeforeFix # считаем средний чек покупки за время до фиксированной даты      \n",
    "    return bought,recency,frequency #,,MonetaryValue,someVar\n",
    "\n",
    "    \n",
    "\n",
    "def func(group): #функция, в которой все посчитанные показатели собираются в один массив\n",
    "    bought, recency,frequency=agg(group)\n",
    "    d = {}\n",
    "    d['Bought_Or_Not'] = bought\n",
    "    d['Recency'] = recency\n",
    "    d['Frequency'] = frequency\n",
    "#    d['Monetary_Value'] = MonetaryValue\n",
    "#    d['Some_Variable'] = someVar\n",
    "   \n",
    "    return pd.Series(d, index=['Bought_Or_Not', 'Recency','Frequency'])\n",
    "#,'Frequency','Monetary_Value','Some_Variable'\n",
    "groupedData = data.groupby(\"CustomerID\").apply(func) # группируем записи по клиенту и применяем функцию, в которой все считается\n",
    "aggregatedData= groupedData.reset_index()\n",
    "print(aggregatedData)\n",
    "\n"
   ]
  },
  {
   "cell_type": "code",
   "execution_count": 28,
   "metadata": {},
   "outputs": [
    {
     "name": "stdout",
     "output_type": "stream",
     "text": [
      "      CustomerID  Bought_Or_Not  Recency\n",
      "0        2728046              0      160\n",
      "1        2728088              0      720\n",
      "2        2728089              1       15\n",
      "3        2728095              0      177\n",
      "4        2728107              1      115\n",
      "...          ...            ...      ...\n",
      "9995     2913103              0      401\n",
      "9996     2913106              0      126\n",
      "9997     2913114              0       95\n",
      "9998     2913123              1        8\n",
      "9999     2913132              1       44\n",
      "\n",
      "[10000 rows x 3 columns]\n"
     ]
    }
   ],
   "source": [
    "# БЛОК СО СЛИЯНИЕМ ДАННЫХ\n",
    "dataToMergeWith =pd.read_csv(\"./Data/CASC_constant.csv\",sep=';') # Считываем данные из файла для слияния\n",
    "\n",
    "MergedData=pd.merge(aggregatedData, dataToMergeWith, left_on='CustomerID', right_on='CustomerId') # Делаем слияние двух таблиц\n",
    "\n",
    "Sex=pd.get_dummies(MergedData['Sex'], drop_first=True) # создадим новый столбец, в котором используем фиктивные переменные: мужской пол =1 ,женский пол = 0\n",
    "\n",
    "MergedData.drop(['Sex'],axis=1,inplace=True) # Удаляем столбец с полом, потому что там прописано м и ж, а нам нужно 1 или 0\n",
    "\n",
    "MergedData=pd.concat([MergedData,Sex]) # присоединяем новый столбец с полом в нужном формате к нашей таблице\n",
    "\n",
    "MergedData['ActivationDate'] = pd.to_datetime(MergedData['ActivationDate']) # переведем формат из строки в дату\n",
    "\n",
    "MergedData['ActivationDate']=MergedData['ActivationDate'].map(dt.datetime.toordinal) # сделаем дату числом\n",
    "\n",
    "print(MergedData)"
   ]
  },
  {
   "cell_type": "code",
   "execution_count": null,
   "metadata": {},
   "outputs": [],
   "source": [
    "# БЛОК С ОБУЧЕНИЕМ МОДЕЛИ\n",
    "from sklearn import datasets\n",
    "from sklearn import metrics\n",
    "from sklearn.linear_model import LogisticRegression\n",
    "from sklearn.model_selection import train_test_split\n",
    "from sklearn.metrics import confusion_matrix, classification_report\n",
    "import numpy as np\n",
    "\n",
    "X_data=MergedData.drop('Bought_or_Not',axis=1) # исключаем из данных зависимую переменную\n",
    "\n",
    "x_train, x_test, y_train, y_test = train_test_split(X_data, MergedData['Bought_or_Not'], test_size=0.2, random_state=42) # разделим данные, тестовая выборка составит 20%\n",
    "logreg=LogisticRegression() # создадим логистическую регрессию\n",
    "logreg.fit(x_train, y_train) # применим функцию fit на обучающей выборке\n",
    "y_pred = logreg.predict(x_test) # применим функцию predict для предсказания меток\n",
    "print(confusion_matrix(y_test, y_pred))\n",
    "print(classification_report(y_test, y_pred))"
   ]
  }
 ],
 "metadata": {
  "kernelspec": {
   "display_name": "Python 3",
   "language": "python",
   "name": "python3"
  },
  "language_info": {
   "codemirror_mode": {
    "name": "ipython",
    "version": 3
   },
   "file_extension": ".py",
   "mimetype": "text/x-python",
   "name": "python",
   "nbconvert_exporter": "python",
   "pygments_lexer": "ipython3",
   "version": "3.7.4"
  }
 },
 "nbformat": 4,
 "nbformat_minor": 2
}
