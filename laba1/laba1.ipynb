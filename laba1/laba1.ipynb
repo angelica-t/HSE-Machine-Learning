{
 "cells": [
  {
   "cell_type": "code",
   "execution_count": 16,
   "metadata": {},
   "outputs": [],
   "source": [
    "import pandas as pd\n",
    "from datetime import datetime\n",
    "from dateutil import relativedelta\n",
    "import datetime as dt"
   ]
  },
  {
   "cell_type": "code",
   "execution_count": 26,
   "metadata": {},
   "outputs": [
    {
     "name": "stdout",
     "output_type": "stream",
     "text": [
      "<class 'pandas.core.frame.DataFrame'>\n",
      "RangeIndex: 882222 entries, 0 to 882221\n",
      "Data columns (total 9 columns):\n",
      "CustomerID              882222 non-null int64\n",
      "Restaurant              882222 non-null int64\n",
      "RKDate                  882222 non-null datetime64[ns]\n",
      "RegionName              882222 non-null object\n",
      "BrandsNames             882222 non-null object\n",
      "DishCategoryName        881608 non-null object\n",
      "Quantity                882222 non-null int64\n",
      "SummBasic               882222 non-null float64\n",
      "SummAfterPointsUsage    882222 non-null float64\n",
      "dtypes: datetime64[ns](1), float64(2), int64(3), object(3)\n",
      "memory usage: 60.6+ MB\n",
      "None\n"
     ]
    }
   ],
   "source": [
    "# БЛОК С ИМПОРТОМ ДАННЫХ\n",
    "data=pd.read_csv(\"./Data/casc-resto.csv\",sep=';', decimal=\",\") # Считываем данные из файла\n",
    "data = pd.DataFrame(data)\n",
    "data['RKDate']=pd.to_datetime(data['RKDate'])  # столбец с датой сделаем в формате даты\n",
    "fix_date=(datetime.strptime('2017-07-01', '%Y-%m-%d'))\n",
    "print(data.info())\n",
    "data['SummAfterPointsUsage'] = data['SummAfterPointsUsage'].astype(float) # приведем эти столбцы к типу с плавающей запятой\n",
    "data['SummBasic'] = data['SummBasic'].astype(float)\n"
   ]
  },
  {
   "cell_type": "code",
   "execution_count": 27,
   "metadata": {},
   "outputs": [
    {
     "name": "stdout",
     "output_type": "stream",
     "text": [
      "      CustomerID  Bought_Or_Not  Recency  Frequency  Monetary_Value  \\\n",
      "0        2728046            0.0    160.0   8.142857      251.789474   \n",
      "1        2728088            0.0    720.0   4.857143      279.647059   \n",
      "2        2728089            1.0     15.0   4.714286      398.734848   \n",
      "3        2728095            0.0    177.0  14.142857      262.737374   \n",
      "4        2728107            1.0    115.0   3.000000      393.714286   \n",
      "...          ...            ...      ...        ...             ...   \n",
      "9995     2913103            0.0    401.0   9.750000      443.538462   \n",
      "9996     2913106            0.0    126.0  46.750000      252.983957   \n",
      "9997     2913114            0.0     95.0  27.750000      311.873874   \n",
      "9998     2913123            1.0      8.0  58.000000      129.232759   \n",
      "9999     2913132            1.0     44.0   2.571429      370.222222   \n",
      "\n",
      "      Mean_Quantity  \n",
      "0          1.035088  \n",
      "1          1.000000  \n",
      "2          1.666667  \n",
      "3          1.141414  \n",
      "4          1.809524  \n",
      "...             ...  \n",
      "9995       1.871795  \n",
      "9996       1.224599  \n",
      "9997       1.225225  \n",
      "9998       1.422414  \n",
      "9999       1.777778  \n",
      "\n",
      "[10000 rows x 6 columns]\n"
     ]
    }
   ],
   "source": [
    "# БЛОК С РАСЧЕТОМ ПОКАЗАТЕЛЕЙ\n",
    "def agg(group): # функция, в которой считаются все показатели\n",
    "    bought=0 # переменная для покупал/не покупал\n",
    "    recency=10000\n",
    "    spent = 0\n",
    "    visitedTimes = 1\n",
    "    nonCashSpent = 0\n",
    "    visitedTimes1 = 1\n",
    "    visitsBeforeFix=0\n",
    "    firstVisitDate=fix_date\n",
    "    MonetaryValue=0\n",
    "    Mean_quantity=0\n",
    "    QuantityForGroup=sum( group['Quantity'] )\n",
    "    for index, row in group.iterrows(): # пробегаемся по датам в каждой группе \n",
    "        if row['RKDate'] <=  datetime.strptime('2017-12-31', '%Y-%m-%d')  and row['RKDate'] >= fix_date: # сравниваем даты\n",
    "            bought=1 # покупка была совершена в промежуток времени \n",
    "            \n",
    "        if row['RKDate'] <= fix_date and (fix_date - row['RKDate']).days < recency: \n",
    "            recency = (fix_date - row['RKDate']).days # считаем количество дней от даты покупки/визита до фиксированной даты\n",
    "                \n",
    "        if row['RKDate'] <= fix_date:\n",
    "            visitsBeforeFix=visitsBeforeFix+1 # считаем дату самого недавнего визита до фиксированной даты\n",
    "            spent=spent+row['SummAfterPointsUsage'] # считаем сколько всего было потрачено\n",
    "        if row['RKDate']<= firstVisitDate:\n",
    "            firstVisitDate=row['RKDate'] # считаем дату первого визита \n",
    "            \n",
    "        #if (row['RKDate'] <= fix_date):           \n",
    "            \n",
    "\n",
    "    if visitsBeforeFix == 0: # если не было визитов до фиксированной даты, то частота равна 0\n",
    "        frequency=0\n",
    "    months  = 1 + (relativedelta.relativedelta(fix_date,firstVisitDate)).months # считаем сколько месяцев прошло от первого визита до фиксированной даты\n",
    "    if months!=0:\n",
    "        frequency= visitsBeforeFix/ months # считаем частоту\n",
    "    if visitsBeforeFix != 0:\n",
    "        MonetaryValue= spent / visitsBeforeFix # считаем средний чек покупки за время до фиксированной даты  \n",
    "        Mean_quantity=QuantityForGroup/visitsBeforeFix\n",
    "     # среднее количество купленного товара до фиксированной даты, собственный показатель\n",
    "    \n",
    "    return bought,recency,frequency,MonetaryValue,Mean_quantity \n",
    "\n",
    "    \n",
    "\n",
    "def func(group): #функция, в которой все посчитанные показатели собираются в один массив\n",
    "    bought, recency,frequency,MonetaryValue, Mean_quantity=agg(group)\n",
    "    d = {}\n",
    "    d['Bought_Or_Not'] = bought\n",
    "    d['Recency'] = recency\n",
    "    d['Frequency'] = frequency\n",
    "    d['Monetary_Value'] = MonetaryValue\n",
    "    d['Mean_Quantity'] = Mean_quantity\n",
    "   \n",
    "    return pd.Series(d, index=['Bought_Or_Not', 'Recency','Frequency','Monetary_Value','Mean_Quantity'])\n",
    "\n",
    "groupedData = data.groupby(\"CustomerID\").apply(func) # группируем записи по клиенту и применяем функцию, в которой все считается\n",
    "aggregatedData= groupedData.reset_index()\n",
    "print(aggregatedData)\n",
    "\n"
   ]
  },
  {
   "cell_type": "code",
   "execution_count": 28,
   "metadata": {},
   "outputs": [
    {
     "name": "stdout",
     "output_type": "stream",
     "text": [
      "      Bought_Or_Not  Recency  Frequency  Monetary_Value  Mean_Quantity  \\\n",
      "0               0.0    160.0   8.142857      251.789474       1.035088   \n",
      "1               0.0    720.0   4.857143      279.647059       1.000000   \n",
      "2               1.0     15.0   4.714286      398.734848       1.666667   \n",
      "3               0.0    177.0  14.142857      262.737374       1.141414   \n",
      "4               1.0    115.0   3.000000      393.714286       1.809524   \n",
      "...             ...      ...        ...             ...            ...   \n",
      "9995            0.0    401.0   9.750000      443.538462       1.871795   \n",
      "9996            0.0    126.0  46.750000      252.983957       1.224599   \n",
      "9997            0.0     95.0  27.750000      311.873874       1.225225   \n",
      "9998            1.0      8.0  58.000000      129.232759       1.422414   \n",
      "9999            1.0     44.0   2.571429      370.222222       1.777778   \n",
      "\n",
      "      ActivationDate   Age  SubscribedEmail  SubscribedPush  Male  \n",
      "0             735599  24.0            False            True     0  \n",
      "1             735599  46.0             True            True     1  \n",
      "2             735599  27.0             True            True     0  \n",
      "3             735599  54.0             True            True     0  \n",
      "4             735599  48.0            False           False     1  \n",
      "...              ...   ...              ...             ...   ...  \n",
      "9995          735688  32.0            False            True     0  \n",
      "9996          735688  23.0            False           False     1  \n",
      "9997          735688  27.0            False            True     0  \n",
      "9998          735688  30.0             True            True     0  \n",
      "9999          735688  26.0            False           False     0  \n",
      "\n",
      "[10000 rows x 10 columns]\n"
     ]
    }
   ],
   "source": [
    "# БЛОК СО СЛИЯНИЕМ ДАННЫХ\n",
    "dataToMergeWith =pd.read_csv(\"./Data/CASC_constant.csv\",sep=',') # Считываем данные из файла для слияния\n",
    "dataToMergeWith['ActivationDate'] = pd.to_datetime(dataToMergeWith['ActivationDate'])\n",
    "MergedData=pd.merge(aggregatedData, dataToMergeWith, left_on='CustomerID', right_on='CustomerId',how='inner') # Делаем слияние двух таблиц\n",
    "del MergedData['CustomerId']\n",
    "del MergedData['CustomerID']\n",
    "Sex=pd.get_dummies(MergedData['Sex'], drop_first=True) # создадим новый столбец, в котором используем фиктивные переменные: мужской пол =1 ,женский пол = 0\n",
    "\n",
    "MergedData.drop(['Sex'],axis=1,inplace=True) # Удаляем столбец с полом, потому что там прописано м и ж, а нам нужно 1 или 0\n",
    "\n",
    "MergedData=pd.concat([MergedData,Sex],axis=1) # присоединяем новый столбец с полом в нужном формате к нашей таблице\n",
    "\n",
    "MergedData['ActivationDate'] = pd.to_datetime(MergedData['ActivationDate']) # переведем формат из строки в дату\n",
    "\n",
    "MergedData['ActivationDate']=MergedData['ActivationDate'].map(dt.datetime.toordinal) # сделаем дату числом\n",
    "MergedData['Age'] = MergedData['Age'].fillna(MergedData['Age'].mean())\n",
    "print(MergedData)"
   ]
  },
  {
   "cell_type": "code",
   "execution_count": 29,
   "metadata": {},
   "outputs": [
    {
     "name": "stdout",
     "output_type": "stream",
     "text": [
      "[[954 125]\n",
      " [591 330]]\n",
      "              precision    recall  f1-score   support\n",
      "\n",
      "         0.0       0.62      0.88      0.73      1079\n",
      "         1.0       0.73      0.36      0.48       921\n",
      "\n",
      "    accuracy                           0.64      2000\n",
      "   macro avg       0.67      0.62      0.60      2000\n",
      "weighted avg       0.67      0.64      0.61      2000\n",
      "\n",
      "0.642\n"
     ]
    },
    {
     "name": "stderr",
     "output_type": "stream",
     "text": [
      "C:\\Users\\tagil\\Anaconda3\\lib\\site-packages\\sklearn\\linear_model\\logistic.py:432: FutureWarning: Default solver will be changed to 'lbfgs' in 0.22. Specify a solver to silence this warning.\n",
      "  FutureWarning)\n"
     ]
    }
   ],
   "source": [
    "# БЛОК С ОБУЧЕНИЕМ МОДЕЛИ\n",
    "from sklearn import datasets\n",
    "from sklearn import metrics\n",
    "from sklearn.linear_model import LogisticRegression\n",
    "from sklearn.model_selection import train_test_split\n",
    "from sklearn.metrics import confusion_matrix, classification_report\n",
    "import numpy as np\n",
    "\n",
    "X_data=MergedData.drop('Bought_Or_Not',axis=1) # исключаем из данных зависимую переменную\n",
    "\n",
    "x_train, x_test, y_train, y_test = train_test_split(X_data, MergedData['Bought_Or_Not'], test_size=0.2, random_state=42) # разделим данные, тестовая выборка составит 20%\n",
    "logreg=LogisticRegression() # создадим логистическую регрессию\n",
    "logreg.fit(x_train, y_train) # применим функцию fit на обучающей выборке\n",
    "y_pred = logreg.predict(x_test) # применим функцию predict для предсказания вероятности прихода покупателя\n",
    "print(confusion_matrix(y_test, y_pred))\n",
    "print(classification_report(y_test, y_pred))  # посчитаем показатели precision и recall  \n",
    "score = logreg.score(x_test, y_test)\n",
    "print(score)"
   ]
  },
  {
   "cell_type": "code",
   "execution_count": null,
   "metadata": {},
   "outputs": [],
   "source": []
  }
 ],
 "metadata": {
  "kernelspec": {
   "display_name": "Python 3",
   "language": "python",
   "name": "python3"
  },
  "language_info": {
   "codemirror_mode": {
    "name": "ipython",
    "version": 3
   },
   "file_extension": ".py",
   "mimetype": "text/x-python",
   "name": "python",
   "nbconvert_exporter": "python",
   "pygments_lexer": "ipython3",
   "version": "3.7.4"
  }
 },
 "nbformat": 4,
 "nbformat_minor": 2
}
