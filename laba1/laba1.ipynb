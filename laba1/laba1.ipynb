{
 "cells": [
  {
   "cell_type": "code",
   "execution_count": 1,
   "metadata": {},
   "outputs": [],
   "source": [
    "import pandas as pd\n",
    "from datetime import datetime\n",
    "from dateutil import relativedelta\n",
    "import datetime as dt"
   ]
  },
  {
   "cell_type": "code",
   "execution_count": 2,
   "metadata": {},
   "outputs": [
    {
     "name": "stdout",
     "output_type": "stream",
     "text": [
      "     CustomerID  Restaurant     RKDate                    RegionName  \\\n",
      "0       2898197         391 2017-07-16  Москва и Московская область    \n",
      "1       2903215          43 2015-04-07  Москва и Московская область    \n",
      "2       2748887          43 2015-05-22  Москва и Московская область    \n",
      "3       2862077          46 2015-03-05  Москва и Московская область    \n",
      "4       2862077          46 2015-03-11  Москва и Московская область    \n",
      "..          ...         ...        ...                           ...   \n",
      "995     2899332         405 2015-08-30  Москва и Московская область    \n",
      "996     2832254         405 2016-04-02  Москва и Московская область    \n",
      "997     2751920         405 2016-04-09  Москва и Московская область    \n",
      "998     2745527         405 2016-08-02  Москва и Московская область    \n",
      "999     2887576         405 2016-08-19  Москва и Московская область    \n",
      "\n",
      "               BrandsNames DishCategoryName  Quantity  SummBasic  \\\n",
      "0              TGI FRIDAYS      NON ALCOHOL         2          2   \n",
      "1                 IL Патио      NON ALCOHOL         1          5   \n",
      "2                 IL Патио      NON ALCOHOL         1          5   \n",
      "3                 IL Патио      NON ALCOHOL         1          5   \n",
      "4                 IL Патио      NON ALCOHOL         1          5   \n",
      "..                     ...              ...       ...        ...   \n",
      "995  IL Патио,Планета Суши      NON ALCOHOL         1         10   \n",
      "996  IL Патио,Планета Суши      NON ALCOHOL         1         10   \n",
      "997  IL Патио,Планета Суши             FOOD         1         10   \n",
      "998  IL Патио,Планета Суши      NON ALCOHOL         1         10   \n",
      "999  IL Патио,Планета Суши      NON ALCOHOL         1         10   \n",
      "\n",
      "     SummAfterPointsUsage  \n",
      "0                    2.00  \n",
      "1                    5.00  \n",
      "2                    5.00  \n",
      "3                    5.00  \n",
      "4                    5.00  \n",
      "..                    ...  \n",
      "995                 10.00  \n",
      "996                 10.00  \n",
      "997                 10.00  \n",
      "998                  7.21  \n",
      "999                  5.11  \n",
      "\n",
      "[1000 rows x 9 columns]\n"
     ]
    }
   ],
   "source": [
    "# БЛОК С ИМПОРТОМ ДАННЫХ\n",
    "data=pd.read_csv(\"./Data/casc-resto-small.csv\",sep=',') # Считываем данные из файла\n",
    "data['RKDate']=pd.to_datetime(data['RKDate'])\n",
    "fix_date=(datetime.strptime('2017-07-01', '%Y-%m-%d'))\n",
    "print(data)"
   ]
  },
  {
   "cell_type": "code",
   "execution_count": 12,
   "metadata": {},
   "outputs": [
    {
     "name": "stdout",
     "output_type": "stream",
     "text": [
      "     CustomerID  Bought_Or_Not  Recency  Frequency  Monetary_Value  \\\n",
      "0       2728549            0.0    793.0   0.500000        7.500000   \n",
      "1       2729112            0.0    818.0   0.333333       10.000000   \n",
      "2       2729528            0.0    856.0   0.200000       10.000000   \n",
      "3       2729539            0.0    837.0   0.250000        5.000000   \n",
      "4       2729810            0.0    863.0   0.333333        6.250000   \n",
      "..          ...            ...      ...        ...             ...   \n",
      "458     2912433            0.0    387.0   1.000000        6.666667   \n",
      "459     2912538            0.0    710.0   0.083333        6.890000   \n",
      "460     2912639            0.0    823.0   0.250000        5.000000   \n",
      "461     2912991            1.0  10000.0   0.000000        0.000000   \n",
      "462     2913068            1.0  10000.0   0.000000        0.000000   \n",
      "\n",
      "     Mean_Quantity  \n",
      "0         1.333333  \n",
      "1         1.000000  \n",
      "2         1.000000  \n",
      "3         1.000000  \n",
      "4         1.500000  \n",
      "..             ...  \n",
      "458       1.000000  \n",
      "459       1.000000  \n",
      "460       1.000000  \n",
      "461       0.000000  \n",
      "462       0.000000  \n",
      "\n",
      "[463 rows x 6 columns]\n"
     ]
    }
   ],
   "source": [
    "# БЛОК С РАСЧЕТОМ ПОКАЗАТЕЛЕЙ\n",
    "def agg(group): # функция, в которой считаются все показатели\n",
    "    bought=0 # переменная для покупал/не покупал\n",
    "    recency=10000\n",
    "    spent = 0\n",
    "    visitedTimes = 1\n",
    "    nonCashSpent = 0\n",
    "    visitedTimes1 = 1\n",
    "    visitsBeforeFix=0\n",
    "    firstVisitDate=fix_date\n",
    "    MonetaryValue=0\n",
    "    Mean_quantity=0\n",
    "    QuantityForGroup=sum( group['Quantity'] )\n",
    "    for index, row in group.iterrows(): # пробегаемся по датам в каждой группе \n",
    "        if row['RKDate'] <=  datetime.strptime('2017-12-31', '%Y-%m-%d')  and row['RKDate'] >= fix_date: # сравниваем даты\n",
    "            bought=1 # покупка была совершена в промежуток времени \n",
    "            \n",
    "        if row['RKDate'] <= fix_date and (fix_date - row['RKDate']).days < recency: \n",
    "            recency = (fix_date - row['RKDate']).days # считаем количество дней от даты покупки/визита до фиксированной даты\n",
    "                \n",
    "        if row['RKDate'] <= fix_date:\n",
    "            visitsBeforeFix=visitsBeforeFix+1 # считаем дату самого недавнего визита до фиксированной даты\n",
    "            spent+=row['SummAfterPointsUsage'] # считаем сколько всего было потрачено\n",
    "        if row['RKDate']<= firstVisitDate:\n",
    "            firstVisitDate=row['RKDate'] # считаем дату первого визита \n",
    "            \n",
    "        #if (row['RKDate'] <= fix_date):           \n",
    "            \n",
    "\n",
    "    if visitsBeforeFix == 0: # если не было визитов до фиксированной даты, то частота равна 0\n",
    "        frequency=0\n",
    "    months  = 1 + (relativedelta.relativedelta(fix_date,firstVisitDate)).months # считаем сколько месяцев прошло от первого визита до фиксированной даты\n",
    "    if months!=0:\n",
    "        frequency= visitsBeforeFix/ months # считаем частоту\n",
    "    if visitsBeforeFix != 0:\n",
    "        MonetaryValue= spent / visitsBeforeFix # считаем средний чек покупки за время до фиксированной даты  \n",
    "        Mean_quantity=QuantityForGroup/visitsBeforeFix\n",
    "     # среднее количество купленного товара до фиксированной даты, собственный показатель\n",
    "    \n",
    "    return bought,recency,frequency,MonetaryValue,Mean_quantity \n",
    "\n",
    "    \n",
    "\n",
    "def func(group): #функция, в которой все посчитанные показатели собираются в один массив\n",
    "    bought, recency,frequency,MonetaryValue, Mean_quantity=agg(group)\n",
    "    d = {}\n",
    "    d['Bought_Or_Not'] = bought\n",
    "    d['Recency'] = recency\n",
    "    d['Frequency'] = frequency\n",
    "    d['Monetary_Value'] = MonetaryValue\n",
    "    d['Mean_Quantity'] = Mean_quantity\n",
    "   \n",
    "    return pd.Series(d, index=['Bought_Or_Not', 'Recency','Frequency','Monetary_Value','Mean_Quantity'])\n",
    "\n",
    "groupedData = data.groupby(\"CustomerID\").apply(func) # группируем записи по клиенту и применяем функцию, в которой все считается\n",
    "aggregatedData= groupedData.reset_index()\n",
    "print(aggregatedData)\n",
    "\n"
   ]
  },
  {
   "cell_type": "code",
   "execution_count": 13,
   "metadata": {},
   "outputs": [
    {
     "name": "stdout",
     "output_type": "stream",
     "text": [
      "     Bought_Or_Not  Recency  Frequency  Monetary_Value  Mean_Quantity  \\\n",
      "0              0.0    793.0   0.500000        7.500000       1.333333   \n",
      "1              0.0    818.0   0.333333       10.000000       1.000000   \n",
      "2              0.0    856.0   0.200000       10.000000       1.000000   \n",
      "3              0.0    837.0   0.250000        5.000000       1.000000   \n",
      "4              0.0    863.0   0.333333        6.250000       1.500000   \n",
      "..             ...      ...        ...             ...            ...   \n",
      "458            0.0    387.0   1.000000        6.666667       1.000000   \n",
      "459            0.0    710.0   0.083333        6.890000       1.000000   \n",
      "460            0.0    823.0   0.250000        5.000000       1.000000   \n",
      "461            1.0  10000.0   0.000000        0.000000       0.000000   \n",
      "462            1.0  10000.0   0.000000        0.000000       0.000000   \n",
      "\n",
      "     ActivationDate   Age  SubscribedEmail  SubscribedPush  Male  \n",
      "0            735600  32.0            False           False     1  \n",
      "1            735600  36.0            False            True     1  \n",
      "2            735600  33.0             True           False     1  \n",
      "3            735600  40.0             True            True     0  \n",
      "4            735601  36.0             True            True     1  \n",
      "..              ...   ...              ...             ...   ...  \n",
      "458          735688  44.0            False           False     0  \n",
      "459          735688  46.0             True            True     1  \n",
      "460          735688  26.0             True           False     1  \n",
      "461          735688  29.0            False           False     0  \n",
      "462          735688  25.0             True            True     1  \n",
      "\n",
      "[463 rows x 10 columns]\n"
     ]
    }
   ],
   "source": [
    "# БЛОК СО СЛИЯНИЕМ ДАННЫХ\n",
    "dataToMergeWith =pd.read_csv(\"./Data/CASC_constant.csv\",sep=',') # Считываем данные из файла для слияния\n",
    "dataToMergeWith['ActivationDate'] = pd.to_datetime(dataToMergeWith['ActivationDate'])\n",
    "MergedData=pd.merge(aggregatedData, dataToMergeWith, left_on='CustomerID', right_on='CustomerId',how='inner') # Делаем слияние двух таблиц\n",
    "del MergedData['CustomerId']\n",
    "del MergedData['CustomerID']\n",
    "Sex=pd.get_dummies(MergedData['Sex'], drop_first=True) # создадим новый столбец, в котором используем фиктивные переменные: мужской пол =1 ,женский пол = 0\n",
    "\n",
    "MergedData.drop(['Sex'],axis=1,inplace=True) # Удаляем столбец с полом, потому что там прописано м и ж, а нам нужно 1 или 0\n",
    "\n",
    "MergedData=pd.concat([MergedData,Sex],axis=1) # присоединяем новый столбец с полом в нужном формате к нашей таблице\n",
    "\n",
    "MergedData['ActivationDate'] = pd.to_datetime(MergedData['ActivationDate']) # переведем формат из строки в дату\n",
    "\n",
    "MergedData['ActivationDate']=MergedData['ActivationDate'].map(dt.datetime.toordinal) # сделаем дату числом\n",
    "MergedData['Age'] = MergedData['Age'].fillna(MergedData['Age'].mean())\n",
    "print(MergedData)"
   ]
  },
  {
   "cell_type": "code",
   "execution_count": 14,
   "metadata": {},
   "outputs": [
    {
     "name": "stdout",
     "output_type": "stream",
     "text": [
      "[[89  0]\n",
      " [ 1  3]]\n",
      "              precision    recall  f1-score   support\n",
      "\n",
      "         0.0       0.99      1.00      0.99        89\n",
      "         1.0       1.00      0.75      0.86         4\n",
      "\n",
      "    accuracy                           0.99        93\n",
      "   macro avg       0.99      0.88      0.93        93\n",
      "weighted avg       0.99      0.99      0.99        93\n",
      "\n"
     ]
    },
    {
     "name": "stderr",
     "output_type": "stream",
     "text": [
      "C:\\Users\\tagil\\Anaconda3\\lib\\site-packages\\sklearn\\linear_model\\logistic.py:432: FutureWarning: Default solver will be changed to 'lbfgs' in 0.22. Specify a solver to silence this warning.\n",
      "  FutureWarning)\n"
     ]
    }
   ],
   "source": [
    "# БЛОК С ОБУЧЕНИЕМ МОДЕЛИ\n",
    "from sklearn import datasets\n",
    "from sklearn import metrics\n",
    "from sklearn.linear_model import LogisticRegression\n",
    "from sklearn.model_selection import train_test_split\n",
    "from sklearn.metrics import confusion_matrix, classification_report\n",
    "import numpy as np\n",
    "\n",
    "X_data=MergedData.drop('Bought_Or_Not',axis=1) # исключаем из данных зависимую переменную\n",
    "\n",
    "x_train, x_test, y_train, y_test = train_test_split(X_data, MergedData['Bought_Or_Not'], test_size=0.2, random_state=42) # разделим данные, тестовая выборка составит 20%\n",
    "logreg=LogisticRegression() # создадим логистическую регрессию\n",
    "logreg.fit(x_train, y_train) # применим функцию fit на обучающей выборке\n",
    "y_pred = logreg.predict(x_test) # применим функцию predict для предсказания вероятности прихода покупателя\n",
    "print(confusion_matrix(y_test, y_pred))\n",
    "print(classification_report(y_test, y_pred)) "
   ]
  },
  {
   "cell_type": "code",
   "execution_count": 27,
   "metadata": {},
   "outputs": [
    {
     "name": "stdout",
     "output_type": "stream",
     "text": [
      "     CustomerID  Restaurant     RKDate                    RegionName  \\\n",
      "0       2898197         391 2017-07-16  Москва и Московская область    \n",
      "1       2903215          43 2015-04-07  Москва и Московская область    \n",
      "2       2748887          43 2015-05-22  Москва и Московская область    \n",
      "3       2862077          46 2015-03-05  Москва и Московская область    \n",
      "4       2862077          46 2015-03-11  Москва и Московская область    \n",
      "..          ...         ...        ...                           ...   \n",
      "995     2899332         405 2015-08-30  Москва и Московская область    \n",
      "996     2832254         405 2016-04-02  Москва и Московская область    \n",
      "997     2751920         405 2016-04-09  Москва и Московская область    \n",
      "998     2745527         405 2016-08-02  Москва и Московская область    \n",
      "999     2887576         405 2016-08-19  Москва и Московская область    \n",
      "\n",
      "               BrandsNames DishCategoryName  Quantity  SummBasic  \\\n",
      "0              TGI FRIDAYS      NON ALCOHOL         2          2   \n",
      "1                 IL Патио      NON ALCOHOL         1          5   \n",
      "2                 IL Патио      NON ALCOHOL         1          5   \n",
      "3                 IL Патио      NON ALCOHOL         1          5   \n",
      "4                 IL Патио      NON ALCOHOL         1          5   \n",
      "..                     ...              ...       ...        ...   \n",
      "995  IL Патио,Планета Суши      NON ALCOHOL         1         10   \n",
      "996  IL Патио,Планета Суши      NON ALCOHOL         1         10   \n",
      "997  IL Патио,Планета Суши             FOOD         1         10   \n",
      "998  IL Патио,Планета Суши      NON ALCOHOL         1         10   \n",
      "999  IL Патио,Планета Суши      NON ALCOHOL         1         10   \n",
      "\n",
      "     SummAfterPointsUsage  \n",
      "0                    2.00  \n",
      "1                    5.00  \n",
      "2                    5.00  \n",
      "3                    5.00  \n",
      "4                    5.00  \n",
      "..                    ...  \n",
      "995                 10.00  \n",
      "996                 10.00  \n",
      "997                 10.00  \n",
      "998                  7.21  \n",
      "999                  5.11  \n",
      "\n",
      "[1000 rows x 9 columns]\n"
     ]
    }
   ],
   "source": [
    "print(data)"
   ]
  },
  {
   "cell_type": "code",
   "execution_count": null,
   "metadata": {},
   "outputs": [],
   "source": []
  }
 ],
 "metadata": {
  "kernelspec": {
   "display_name": "Python 3",
   "language": "python",
   "name": "python3"
  },
  "language_info": {
   "codemirror_mode": {
    "name": "ipython",
    "version": 3
   },
   "file_extension": ".py",
   "mimetype": "text/x-python",
   "name": "python",
   "nbconvert_exporter": "python",
   "pygments_lexer": "ipython3",
   "version": "3.7.4"
  }
 },
 "nbformat": 4,
 "nbformat_minor": 2
}
