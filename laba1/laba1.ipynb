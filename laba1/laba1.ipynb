{
 "cells": [
  {
   "cell_type": "code",
   "execution_count": 16,
   "metadata": {},
   "outputs": [],
   "source": [
    "import pandas as pd\n",
    "from datetime import datetime\n",
    "from dateutil import relativedelta"
   ]
  },
  {
   "cell_type": "code",
   "execution_count": 24,
   "metadata": {},
   "outputs": [],
   "source": [
    "# Считываем данные из файла\n",
    "data=pd.read_csv(\"./Data/casc-resto.csv\",sep=';')\n",
    "data['RKDate']=pd.to_datetime(data['RKDate'])\n",
    "fix_date=(datetime.strptime('2017-07-01', '%Y-%m-%d'))\n",
    "# Группируем данные по идентификатору клиента и смотрим на данные\n"
   ]
  },
  {
   "cell_type": "code",
   "execution_count": 29,
   "metadata": {},
   "outputs": [
    {
     "name": "stdout",
     "output_type": "stream",
     "text": [
      "      CustomerID  Bought_Or_Not  Recency  Frequency\n",
      "0        2728046            0.0    160.0   8.142857\n",
      "1        2728088            0.0    720.0   4.857143\n",
      "2        2728089            1.0     15.0   4.714286\n",
      "3        2728095            0.0    177.0  14.142857\n",
      "4        2728107            1.0    115.0   3.000000\n",
      "...          ...            ...      ...        ...\n",
      "9995     2913103            0.0    401.0   9.750000\n",
      "9996     2913106            0.0    126.0  46.750000\n",
      "9997     2913114            0.0     95.0  27.750000\n",
      "9998     2913123            1.0      8.0  58.000000\n",
      "9999     2913132            1.0     44.0   2.571429\n",
      "\n",
      "[10000 rows x 4 columns]\n"
     ]
    }
   ],
   "source": [
    "\n",
    "def agg(group): # функция, в которой считаются все показатели\n",
    "    bought=0 # переменная для покупал/не покупал\n",
    "    recency=10000\n",
    "    spent = 0\n",
    "    visitedTimes = 1\n",
    "    nonCashSpent = 0\n",
    "    visitedTimes1 = 1\n",
    "    visitsBeforeFix=0\n",
    "    firstVisitDate=fix_date\n",
    "    for index, row in group.iterrows(): # пробегаемся по датам в каждой группе \n",
    "        if row['RKDate'] <=  datetime.strptime('2017-12-31', '%Y-%m-%d')  and row['RKDate'] >= fix_date: # сравниваем даты\n",
    "            bought=1 # покупка была совершена в промежуток времени \n",
    "            \n",
    "        if row['RKDate'] <= fix_date and (fix_date - row['RKDate']).days < recency: \n",
    "            recency = (fix_date - row['RKDate']).days # считаем количество дней от даты покупки/визита до фиксированной даты\n",
    "                \n",
    "        if row['RKDate'] <= fix_date:\n",
    "            visitsBeforeFix=visitsBeforeFix+1 # считаем дату самого недавнего визита до фиксированной даты\n",
    "            spent+=row['SummAfterPointsUsage'] # считаем сколько всего было потрачено\n",
    "        if row['RKDate']<= firstVisitDate:\n",
    "            firstVisitDate=row['RKDate'] # считаем дату первого визита \n",
    "            \n",
    "#        if (row['RKDate'] <= fix_date):\n",
    "#            visitedTimes1+=1\n",
    "#            nonCashSpent+= ( row['SummBasic'] - row['SummAfterPointsUsage'] )\n",
    "#            someVar= nonCashSpent / visitedTimes1\n",
    "    if visitsBeforeFix == 0: # если не было визитов до фиксированной даты, то частота равна 0\n",
    "        frequency=0\n",
    "    months  = 1 + (relativedelta.relativedelta(fix_date,firstVisitDate)).months # считаем сколько месяцев прошло от первого визита до фиксированной даты\n",
    "    frequency= visitsBeforeFix/ months # считаем частоту\n",
    "    \n",
    "    MonetaryValue= spent / visitsBeforeFix # считаем средний чек покупки за время до фиксированной даты      \n",
    "    return bought,recency,frequency #,,MonetaryValue,someVar\n",
    "\n",
    "    \n",
    "\n",
    "def func(group): #функция, в которой все посчитанные показатели собираются в один массив\n",
    "    bought, recency,frequency=agg(group)\n",
    "    d = {}\n",
    "    d['Bought_Or_Not'] = bought\n",
    "    d['Recency'] = recency\n",
    "    d['Frequency'] = frequency\n",
    "#    d['Monetary_Value'] = MonetaryValue\n",
    "#    d['Some_Variable'] = someVar\n",
    "   \n",
    "    return pd.Series(d, index=['Bought_Or_Not', 'Recency','Frequency'])\n",
    "#,'Frequency','Monetary_Value','Some_Variable'\n",
    "groupedData = data.groupby(\"CustomerID\").apply(func) # группируем записи по клиенту и применяем функцию, в которой все считается\n",
    "aggregatedData= groupedData.reset_index()\n",
    "print(aggregatedData)\n",
    "\n"
   ]
  },
  {
   "cell_type": "code",
   "execution_count": 28,
   "metadata": {},
   "outputs": [
    {
     "name": "stdout",
     "output_type": "stream",
     "text": [
      "      CustomerID  Bought_Or_Not  Recency\n",
      "0        2728046              0      160\n",
      "1        2728088              0      720\n",
      "2        2728089              1       15\n",
      "3        2728095              0      177\n",
      "4        2728107              1      115\n",
      "...          ...            ...      ...\n",
      "9995     2913103              0      401\n",
      "9996     2913106              0      126\n",
      "9997     2913114              0       95\n",
      "9998     2913123              1        8\n",
      "9999     2913132              1       44\n",
      "\n",
      "[10000 rows x 3 columns]\n"
     ]
    }
   ],
   "source": [
    "print(aggregatedData)\n",
    "\n",
    "# Считываем данные из файла для слияния\n",
    "dataToMergeWith =pd.read_csv(\"./Data/CASC_constant.csv\",sep=';')"
   ]
  },
  {
   "cell_type": "code",
   "execution_count": null,
   "metadata": {},
   "outputs": [],
   "source": []
  }
 ],
 "metadata": {
  "kernelspec": {
   "display_name": "Python 3",
   "language": "python",
   "name": "python3"
  },
  "language_info": {
   "codemirror_mode": {
    "name": "ipython",
    "version": 3
   },
   "file_extension": ".py",
   "mimetype": "text/x-python",
   "name": "python",
   "nbconvert_exporter": "python",
   "pygments_lexer": "ipython3",
   "version": "3.7.4"
  }
 },
 "nbformat": 4,
 "nbformat_minor": 2
}
