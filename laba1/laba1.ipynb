{
 "cells": [
  {
   "cell_type": "code",
   "execution_count": 16,
   "metadata": {},
   "outputs": [],
   "source": [
    "import pandas as pd\n",
    "from datetime import datetime\n",
    "from dateutil import relativedelta"
   ]
  },
  {
   "cell_type": "code",
   "execution_count": 24,
   "metadata": {},
   "outputs": [],
   "source": [
    "# Считываем данные из файла\n",
    "data=pd.read_csv(\"./Data/casc-resto.csv\",sep=';')\n",
    "data['RKDate']=pd.to_datetime(data['RKDate'])\n",
    "fix_date=(datetime.strptime('2017-07-01', '%Y-%m-%d'))\n",
    "# Группируем данные по идентификатору клиента и смотрим на данные\n"
   ]
  },
  {
   "cell_type": "code",
   "execution_count": 25,
   "metadata": {},
   "outputs": [],
   "source": [
    "\n",
    "def agg(group):\n",
    "    bought=0\n",
    "    recency=10000\n",
    "    spent = 0\n",
    "    visitedTimes = 1\n",
    "    nonCashSpent = 0\n",
    "    visitedTimes1 = 1\n",
    "    for index, row in group.iterrows():\n",
    "        if row['RKDate'] <=  datetime.strptime('2017-12-31', '%Y-%m-%d')  and row['RKDate'] >= fix_date:\n",
    "            bought=1\n",
    "            \n",
    "        if row['RKDate'] <= fix_date and (fix_date - row['RKDate']).days < recency:\n",
    "            recency = (fix_date - row['RKDate']).days\n",
    "            \n",
    "#        datesBefore = list(filter(lambda d: d <= fix_date, row['RKDate']))\n",
    "#        if len(datesBefore) == 0:\n",
    "#            frequency=0\n",
    "#        months  = 1 + (relativedelta.relativedelta(fix_date, min(datesBefore)) ).months\n",
    "#        frequency=len(datesBefore) / months\n",
    "        \n",
    "#        if (row['RKDate'] <= fix_date):\n",
    "#            visitedTimes+=1\n",
    "#            spent+=row['SummAfterPointsUsage']\n",
    "#            MonetaryValue= spent / visitedTimes\n",
    "            \n",
    "#        if (row['RKDate'] <= fix_date):\n",
    "#            visitedTimes1+=1\n",
    "#            nonCashSpent+= ( row['SummBasic'] - row['SummAfterPointsUsage'] )\n",
    "#            someVar= nonCashSpent / visitedTimes1\n",
    "            \n",
    "    return bought,recency #,frequency,MonetaryValue,someVar\n",
    "def func(group):\n",
    "    bought, recency=agg(group)\n",
    "    d = {}\n",
    "    d['Bought_Or_Not'] = bought\n",
    "    d['Recency'] = recency\n",
    "#    d['Frequency'] = frequency\n",
    "#    d['Monetary_Value'] = MonetaryValue\n",
    "#    d['Some_Variable'] = someVar\n",
    "   \n",
    "    return pd.Series(d, index=['did_buy', 'Recency'])\n",
    "#,'Frequency','Monetary_Value','Some_Variable'\n",
    "groupedData = data.groupby(\"CustomerID\").apply(func)\n",
    "aggregatedData= groupedData.reset_index()\n",
    "\n",
    "# функция для получения флага \"покупал или не покупал\" \n",
    "# функция для получения показателя Recency\n",
    "# функция для получения показателя Frequency\n",
    "# функция для получения показателя Monetary Value\n",
    "# функция для вычисления собственного показателя\n"
   ]
  },
  {
   "cell_type": "code",
   "execution_count": 26,
   "metadata": {},
   "outputs": [
    {
     "name": "stdout",
     "output_type": "stream",
     "text": [
      "      CustomerID  did_buy  Recency\n",
      "0        2728046      NaN    160.0\n",
      "1        2728088      NaN    720.0\n",
      "2        2728089      NaN     15.0\n",
      "3        2728095      NaN    177.0\n",
      "4        2728107      NaN    115.0\n",
      "...          ...      ...      ...\n",
      "9995     2913103      NaN    401.0\n",
      "9996     2913106      NaN    126.0\n",
      "9997     2913114      NaN     95.0\n",
      "9998     2913123      NaN      8.0\n",
      "9999     2913132      NaN     44.0\n",
      "\n",
      "[10000 rows x 3 columns]\n"
     ]
    }
   ],
   "source": [
    "print(aggregatedData)\n",
    "\n",
    "# Считываем данные из файла для слияния\n",
    "dataToMergeWith =pd.read_csv(\"./Data/CASC_constant.csv\",sep=';')"
   ]
  },
  {
   "cell_type": "code",
   "execution_count": null,
   "metadata": {},
   "outputs": [],
   "source": []
  }
 ],
 "metadata": {
  "kernelspec": {
   "display_name": "Python 3",
   "language": "python",
   "name": "python3"
  },
  "language_info": {
   "codemirror_mode": {
    "name": "ipython",
    "version": 3
   },
   "file_extension": ".py",
   "mimetype": "text/x-python",
   "name": "python",
   "nbconvert_exporter": "python",
   "pygments_lexer": "ipython3",
   "version": "3.7.4"
  }
 },
 "nbformat": 4,
 "nbformat_minor": 2
}
